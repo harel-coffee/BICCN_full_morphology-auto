{
 "cells": [
  {
   "cell_type": "code",
   "execution_count": 1,
   "metadata": {},
   "outputs": [
    {
     "name": "stdout",
     "output_type": "stream",
     "text": [
      "/Users/pengxie/Documents/Research/python/neuro_morhpo_toolbox/neuro_morpho_toolbox/\n",
      "Loading CCF Atlas data...\n",
      "Loading time: 0.58\n",
      "Loading CCF brain structure data...\n",
      "Loading time: 0.00\n",
      "Loading flat_map ...\n",
      "Loading time: 2.67\n"
     ]
    }
   ],
   "source": [
    "import numpy as np\n",
    "import pandas as pd\n",
    "import re\n",
    "import math\n",
    "import matplotlib as mpl\n",
    "import matplotlib.pyplot as plt\n",
    "import seaborn as sns\n",
    "import plotly.graph_objs as go\n",
    "import time\n",
    "import os\n",
    "\n",
    "import neuro_morpho_toolbox as nmt\n",
    "from neuro_morpho_toolbox.flat_map import *\n",
    "\n",
    "import sklearn\n",
    "from sklearn.decomposition import PCA\n",
    "import umap\n",
    "from sklearn import metrics\n",
    "\n",
    "import pickle\n",
    "%matplotlib inline\n"
   ]
  },
  {
   "cell_type": "code",
   "execution_count": 2,
   "metadata": {},
   "outputs": [],
   "source": [
    "def sum_regions(x, region='SSp'):\n",
    "    for tag in ['-ipsi', '-contra']:\n",
    "        tp_list = [nmt.bs.id_to_name(i)+tag for i in nmt.bs.get_all_child_id(region)]\n",
    "        tp_list = [i for i in tp_list if i in (x.columns.tolist())]\n",
    "        res = x[tp_list].sum(axis=1)\n",
    "        x.drop(columns=tp_list, inplace=True)\n",
    "        x[region+tag] = res\n",
    "    return x"
   ]
  },
  {
   "cell_type": "markdown",
   "metadata": {},
   "source": [
    "## Read mesoscale data"
   ]
  },
  {
   "cell_type": "code",
   "execution_count": 3,
   "metadata": {},
   "outputs": [
    {
     "name": "stdout",
     "output_type": "stream",
     "text": [
      "[]\n"
     ]
    },
    {
     "data": {
      "text/html": [
       "<div>\n",
       "<style scoped>\n",
       "    .dataframe tbody tr th:only-of-type {\n",
       "        vertical-align: middle;\n",
       "    }\n",
       "\n",
       "    .dataframe tbody tr th {\n",
       "        vertical-align: top;\n",
       "    }\n",
       "\n",
       "    .dataframe thead th {\n",
       "        text-align: right;\n",
       "    }\n",
       "</style>\n",
       "<table border=\"1\" class=\"dataframe\">\n",
       "  <thead>\n",
       "    <tr style=\"text-align: right;\">\n",
       "      <th></th>\n",
       "      <th>mouse-strain</th>\n",
       "      <th>dataset-name</th>\n",
       "      <th>graph-order</th>\n",
       "      <th>primary-injection-structure</th>\n",
       "      <th>secondary-injection-structures</th>\n",
       "      <th>reassigned primary-layer</th>\n",
       "      <th>Sum PV (excl fiber tracts)</th>\n",
       "    </tr>\n",
       "    <tr>\n",
       "      <th>image-series-id</th>\n",
       "      <th></th>\n",
       "      <th></th>\n",
       "      <th></th>\n",
       "      <th></th>\n",
       "      <th></th>\n",
       "      <th></th>\n",
       "      <th></th>\n",
       "    </tr>\n",
       "  </thead>\n",
       "  <tbody>\n",
       "    <tr>\n",
       "      <th>266174045</th>\n",
       "      <td>Gal-Cre_KI87</td>\n",
       "      <td>mca_classic</td>\n",
       "      <td>676</td>\n",
       "      <td>AM</td>\n",
       "      <td>AV|AD|IAD|PT</td>\n",
       "      <td>AM-</td>\n",
       "      <td>0.937515</td>\n",
       "    </tr>\n",
       "    <tr>\n",
       "      <th>573035760</th>\n",
       "      <td>Prkcd-GluCla-CFP-IRES-Cre</td>\n",
       "      <td>T601.3a anterograde Cre-defined EGFP</td>\n",
       "      <td>676</td>\n",
       "      <td>AM</td>\n",
       "      <td>IAM|IAD|MD|PT</td>\n",
       "      <td>AM-</td>\n",
       "      <td>1.112664</td>\n",
       "    </tr>\n",
       "    <tr>\n",
       "      <th>514333422</th>\n",
       "      <td>Slc17a6-IRES-Cre</td>\n",
       "      <td>T601.3a anterograde Cre-defined EGFP</td>\n",
       "      <td>676</td>\n",
       "      <td>AM</td>\n",
       "      <td>AV|AD|IAD|MD</td>\n",
       "      <td>AM-</td>\n",
       "      <td>1.397853</td>\n",
       "    </tr>\n",
       "    <tr>\n",
       "      <th>485903475</th>\n",
       "      <td>Gnb4-IRES2-Cre</td>\n",
       "      <td>mca_classic</td>\n",
       "      <td>557</td>\n",
       "      <td>CLA</td>\n",
       "      <td>GU|AIp|EPd|CP</td>\n",
       "      <td>CLA-</td>\n",
       "      <td>9.706556</td>\n",
       "    </tr>\n",
       "    <tr>\n",
       "      <th>514505957</th>\n",
       "      <td>Gnb4-IRES2-Cre</td>\n",
       "      <td>mca_classic</td>\n",
       "      <td>573</td>\n",
       "      <td>CP</td>\n",
       "      <td>SSp-m|AId|AIv|CLA</td>\n",
       "      <td>CLA-</td>\n",
       "      <td>0.132375</td>\n",
       "    </tr>\n",
       "  </tbody>\n",
       "</table>\n",
       "</div>"
      ],
      "text/plain": [
       "                              mouse-strain  \\\n",
       "image-series-id                              \n",
       "266174045                     Gal-Cre_KI87   \n",
       "573035760        Prkcd-GluCla-CFP-IRES-Cre   \n",
       "514333422                 Slc17a6-IRES-Cre   \n",
       "485903475                   Gnb4-IRES2-Cre   \n",
       "514505957                   Gnb4-IRES2-Cre   \n",
       "\n",
       "                                         dataset-name  graph-order  \\\n",
       "image-series-id                                                      \n",
       "266174045                                 mca_classic          676   \n",
       "573035760        T601.3a anterograde Cre-defined EGFP          676   \n",
       "514333422        T601.3a anterograde Cre-defined EGFP          676   \n",
       "485903475                                 mca_classic          557   \n",
       "514505957                                 mca_classic          573   \n",
       "\n",
       "                primary-injection-structure secondary-injection-structures  \\\n",
       "image-series-id                                                              \n",
       "266174045                                AM                   AV|AD|IAD|PT   \n",
       "573035760                                AM                  IAM|IAD|MD|PT   \n",
       "514333422                                AM                   AV|AD|IAD|MD   \n",
       "485903475                               CLA                  GU|AIp|EPd|CP   \n",
       "514505957                                CP              SSp-m|AId|AIv|CLA   \n",
       "\n",
       "                reassigned primary-layer  Sum PV (excl fiber tracts)  \n",
       "image-series-id                                                       \n",
       "266174045                            AM-                    0.937515  \n",
       "573035760                            AM-                    1.112664  \n",
       "514333422                            AM-                    1.397853  \n",
       "485903475                           CLA-                    9.706556  \n",
       "514505957                           CLA-                    0.132375  "
      ]
     },
     "execution_count": 3,
     "metadata": {},
     "output_type": "execute_result"
    }
   ],
   "source": [
    "mesoscale_projection_volumes = pd.read_excel('/Users/pengxie/Documents/Research/Thalamus_fullMorpho/Data/Hongkui/single cell_meso groups_source match_thresholded meso_2021-03.xlsx', \n",
    "                                          index_col=[0], sheet_name=3)\n",
    "# correct some column names\n",
    "mesoscale_meta = mesoscale_projection_volumes.iloc[:,:7]\n",
    "# mesoscale_meta['reassigned primary-layer'] = ['-'.join(i.split('-')[:-1]) for i in mesoscale_meta['reassigned primary-layer'].tolist()]\n",
    "mesoscale_projection_volumes = mesoscale_projection_volumes.iloc[:,7:]\n",
    "mesoscale_projection_volumes = sum_regions(mesoscale_projection_volumes, 'SSp')\n",
    "\n",
    "meso_list = [182616478,\n",
    "263781454,\n",
    "591612976,\n",
    "880719308,\n",
    "168002073,\n",
    "266645328,\n",
    "272822110,\n",
    "477037203,\n",
    "504105304,\n",
    "518023283,\n",
    "587659400,\n",
    "616676552,\n",
    "288169842,\n",
    "294525944,\n",
    "505790715,\n",
    "517082898,\n",
    "517313256,\n",
    "517314004,\n",
    "614735393,\n",
    "168003640,\n",
    "266486371,\n",
    "560736273,\n",
    "288170549,\n",
    "297654263,\n",
    "266644610,\n",
    "298830161,\n",
    "296052839,\n",
    "591622344,\n",
    "278317945,\n",
    "303614706,\n",
    "298182842,\n",
    "286300594,\n",
    "298106713,\n",
    "303615412,\n",
    "287951098,\n",
    "297855879,\n",
    "577773267,\n",
    "288171256,\n",
    "303616833,\n",
    "            ]\n",
    "\n",
    "print([i for i in meso_list if not i in mesoscale_projection_volumes.index.tolist()])\n",
    "meso_list = [i for i in meso_list if i in mesoscale_projection_volumes.index.tolist()]\n",
    "meso_meta_selected = mesoscale_meta.loc[meso_list].copy()\n",
    "\n",
    "mesoscale_meta.head()"
   ]
  },
  {
   "cell_type": "code",
   "execution_count": 4,
   "metadata": {},
   "outputs": [],
   "source": [
    "meso_meta_selected['reassigned primary-layer_full'] = meso_meta_selected['reassigned primary-layer']\n",
    "\n",
    "regroup_dict = {'MOp-L2/3':'MOp-L2/3',\n",
    " 'MOp-L5_IT':'MO-L5_IT',\n",
    " 'MOs-L2/3':'MOs-L2/3',\n",
    " 'MOs-L5_IT':'MO-L5_IT',\n",
    " 'SSp-bfd-L2/3':'SSp-L2/3',\n",
    " 'SSp-bfd-L5_IT':'SSp-L5_IT',\n",
    " 'SSp-ll-L2/3':'SSp-L2/3',\n",
    " 'SSp-ll-L5_IT':'SSp-L5_IT',\n",
    " 'SSp-m-L2/3':'SSp-L2/3',\n",
    " 'SSp-m-L5_IT':'SSp-L5_IT',\n",
    " 'SSp-tr-L5_IT':'SSp-L5_IT',\n",
    " 'SSp-ul-L2/3':'SSp-L2/3',\n",
    " 'SSp-ul-L5_IT':'SSp-L5_IT',\n",
    " 'SSs-L2/3':'SSs-L2/3',\n",
    " 'SSs-L5_IT':'SSs-L5_IT'}\n",
    "\n",
    "meso_meta_selected['reassigned primary-layer'] =  meso_meta_selected['reassigned primary-layer_full'].map(regroup_dict)\n",
    "\n",
    "meso_meta_selected = meso_meta_selected.sort_values(['reassigned primary-layer',\n",
    "                                                     'reassigned primary-layer_full'\n",
    "                                                    ])"
   ]
  },
  {
   "cell_type": "markdown",
   "metadata": {},
   "source": [
    "## Read single cell data"
   ]
  },
  {
   "cell_type": "code",
   "execution_count": 5,
   "metadata": {},
   "outputs": [],
   "source": [
    "[ns] = pickle.load(open('./neuron_set_1741cells.pickle', 'rb'))\n"
   ]
  },
  {
   "cell_type": "code",
   "execution_count": 6,
   "metadata": {},
   "outputs": [
    {
     "name": "stdout",
     "output_type": "stream",
     "text": [
      "# swc files:\t1741\n"
     ]
    }
   ],
   "source": [
    "metadata = pd.read_excel('../Data/Hongkui/metadata_IT_hz2_px.xlsx', index_col=[0], sheet_name=1)\n",
    "# metadata.loc[((metadata.Region.isin(['MOs', 'MOp'])) & (metadata.Layer=='4')), 'Layer'] = '5'\n",
    "metadata['Region'] = [i.split('-')[0] for i in metadata['Region'].tolist()]\n",
    "metadata['Layer'] = metadata['Corrected Layer']\n",
    "\n",
    "df = metadata.copy()\n",
    "ns_metadata = ns.metadata.copy()\n",
    "df['Manually_corrected_soma_region'] = ns_metadata.loc[df.index, 'Manually_corrected_soma_region'].tolist()\n",
    "df['Region'] = ns_metadata.loc[df.index, 'Manually_corrected_soma_region'].tolist()\n",
    "df.loc[df['Region'].str.startswith('SSp'), 'Region'] = 'SSp'\n",
    "df['Layer'] = ns_metadata.loc[df.index, 'Cortical_layer'].tolist()\n",
    "df['Corrected Layer'] = ns_metadata.loc[df.index, 'Cortical_layer'].tolist()\n",
    "\n",
    "df['CellType_full']=[';'.join([df.loc[i, 'Region'], \n",
    "                               'L'+str(df.loc[i, 'Layer'])\n",
    "                              ]) for i in df.index.tolist()]\n",
    "\n",
    "# swc_path = '/Users/pengxie/Documents/Research/Thalamus_fullMorpho/Data/Hanchuan/from/1523_r10_4/'\n",
    "swc_path = '/Users/pengxie/Documents/Research/Thalamus_fullMorpho/Data/swc/Mapped_Feb2021/1_flip_s25/'\n",
    "# swc_path = '/Users/pengxie/Documents/Research/Thalamus_fullMorpho/Data/swc/Mapped_Feb2021/3_flip_s25_resample/'\n",
    "swc_list = [i for i in os.listdir(swc_path) if i.endswith('.swc')]\n",
    "print('# swc files:\\t%d' % (len(swc_list)))\n",
    "\n",
    "swc_dict = dict(zip([i.split('.')[0].replace('r10_','').replace('p_', '') for i in swc_list], swc_list))\n",
    "\n",
    "df['swc'] = [swc_dict[i] for i in df.index.tolist()]"
   ]
  },
  {
   "cell_type": "code",
   "execution_count": 7,
   "metadata": {},
   "outputs": [
    {
     "data": {
      "text/plain": [
       "MOp-L2/3     19\n",
       "SSp-L2/3     18\n",
       "MOs-L2/3     17\n",
       "SSp-L5_IT    15\n",
       "SSs-L2/3     11\n",
       "SSs-L5_IT    10\n",
       "MO-L5_IT      8\n",
       "Name: CellType_full, dtype: int64"
      ]
     },
     "execution_count": 7,
     "metadata": {},
     "output_type": "execute_result"
    }
   ],
   "source": [
    "regroup_dict = {'MOp;L2/3':'MOp-L2/3',\n",
    " 'MOp;L5':'MO-L5_IT',\n",
    " 'MOs;L2/3':'MOs-L2/3',\n",
    " 'MOs;L5':'MO-L5_IT',\n",
    " 'SSp;L2/3':'SSp-L2/3',\n",
    " 'SSp;L5':'SSp-L5_IT',\n",
    " 'SSs;L2/3':'SSs-L2/3',\n",
    " 'SSs;L5':'SSs-L5_IT'}\n",
    "df = df[df['CellType_full'].isin(list(regroup_dict.keys()))]\n",
    "df['CellType_full'] = df['CellType_full'].map(regroup_dict).tolist()\n",
    "df['CellType_full'].value_counts()"
   ]
  },
  {
   "cell_type": "code",
   "execution_count": 8,
   "metadata": {},
   "outputs": [
    {
     "name": "stdout",
     "output_type": "stream",
     "text": [
      "# candidate cells:\t98\n",
      "# non-projecting cells: 4\n"
     ]
    },
    {
     "data": {
      "image/png": "[encoded data removed]",
      "text/plain": [
       "<Figure size 288x216 with 1 Axes>"
      ]
     },
     "metadata": {
      "needs_background": "light"
     },
     "output_type": "display_data"
    }
   ],
   "source": [
    "def dist2soma(swc, soma):\n",
    "    return sklearn.metrics.pairwise_distances(swc[['x', 'y', 'z']], soma[['x', 'y', 'z']])\n",
    "\n",
    "\n",
    "node_type_list = [1,2,3,4]\n",
    "\n",
    "radius = 1000\n",
    "\n",
    "def long_axon_arbor(cn, node_type_list=[2], radius=1000):\n",
    "    csoma = cn.soma.copy()\n",
    "    cseg = cn.get_segments()\n",
    "    cseg['soma_distance'] = dist2soma(cseg, csoma).reshape(-1,)\n",
    "    cseg = cseg[((cseg.soma_distance>radius) & (cseg.type.isin(node_type_list)))].copy()\n",
    "    if len(cseg)==0:\n",
    "        return 0\n",
    "    return cseg['rho'].sum()\n",
    "radius = 1000\n",
    "thres = 5\n",
    "\n",
    "print('# candidate cells:\\t%d' % (len(df)))\n",
    "df['Long_arbor(mm)'] = [long_axon_arbor(ns.neurons[i], radius=radius)/1000 for i in df.index.tolist()]\n",
    "\n",
    "fig, ax = plt.subplots(1,1,figsize=(4,3))\n",
    "_ = ax.hist(df['Long_arbor(mm)'], bins=30)\n",
    "\n",
    "ax.vlines(x=thres, ymin=0, ymax=ax.get_ylim()[1], color='r')\n",
    "\n",
    "print(\"# non-projecting cells: %d\" % ((df['Long_arbor(mm)']<thres).sum()))\n"
   ]
  },
  {
   "cell_type": "code",
   "execution_count": 9,
   "metadata": {},
   "outputs": [],
   "source": [
    "df['Long_projection'] = df['Long_arbor(mm)']>thres"
   ]
  },
  {
   "cell_type": "code",
   "execution_count": 10,
   "metadata": {},
   "outputs": [],
   "source": [
    "meta_single = df.copy()\n",
    "meta_single = meta_single[meta_single['Long_projection']]\n",
    "meta_single = meta_single.sort_values(['CellType_full', 'Manually_corrected_soma_region'])"
   ]
  },
  {
   "cell_type": "code",
   "execution_count": 11,
   "metadata": {},
   "outputs": [],
   "source": [
    "singlecell_list = meta_single.index.tolist()"
   ]
  },
  {
   "cell_type": "code",
   "execution_count": 12,
   "metadata": {},
   "outputs": [
    {
     "data": {
      "text/html": [
       "<div>\n",
       "<style scoped>\n",
       "    .dataframe tbody tr th:only-of-type {\n",
       "        vertical-align: middle;\n",
       "    }\n",
       "\n",
       "    .dataframe tbody tr th {\n",
       "        vertical-align: top;\n",
       "    }\n",
       "\n",
       "    .dataframe thead th {\n",
       "        text-align: right;\n",
       "    }\n",
       "</style>\n",
       "<table border=\"1\" class=\"dataframe\">\n",
       "  <thead>\n",
       "    <tr style=\"text-align: right;\">\n",
       "      <th></th>\n",
       "      <th>FRP-ipsi</th>\n",
       "      <th>MOp-ipsi</th>\n",
       "      <th>MOs-ipsi</th>\n",
       "      <th>SSs-ipsi</th>\n",
       "      <th>GU-ipsi</th>\n",
       "      <th>VISC-ipsi</th>\n",
       "      <th>AUDd-ipsi</th>\n",
       "      <th>AUDp-ipsi</th>\n",
       "      <th>AUDpo-ipsi</th>\n",
       "      <th>AUDv-ipsi</th>\n",
       "      <th>...</th>\n",
       "      <th>PRM-contra</th>\n",
       "      <th>COPY-contra</th>\n",
       "      <th>PFL-contra</th>\n",
       "      <th>FL-contra</th>\n",
       "      <th>FN-contra</th>\n",
       "      <th>IP-contra</th>\n",
       "      <th>DN-contra</th>\n",
       "      <th>VeCB-contra</th>\n",
       "      <th>SSp-ipsi</th>\n",
       "      <th>SSp-contra</th>\n",
       "    </tr>\n",
       "  </thead>\n",
       "  <tbody>\n",
       "    <tr>\n",
       "      <th>191812_2978_x7903_y22705</th>\n",
       "      <td>0.000000</td>\n",
       "      <td>3.654685</td>\n",
       "      <td>0.000000</td>\n",
       "      <td>0.000000</td>\n",
       "      <td>0.850459</td>\n",
       "      <td>0.000000</td>\n",
       "      <td>0.0</td>\n",
       "      <td>0.0</td>\n",
       "      <td>0.0</td>\n",
       "      <td>0.0</td>\n",
       "      <td>...</td>\n",
       "      <td>0.0</td>\n",
       "      <td>0.0</td>\n",
       "      <td>0.0</td>\n",
       "      <td>0.0</td>\n",
       "      <td>0.0</td>\n",
       "      <td>0.0</td>\n",
       "      <td>0.0</td>\n",
       "      <td>0.0</td>\n",
       "      <td>1.851329</td>\n",
       "      <td>0.000000</td>\n",
       "    </tr>\n",
       "    <tr>\n",
       "      <th>191812_3163_x6264_y21524</th>\n",
       "      <td>0.047497</td>\n",
       "      <td>3.821450</td>\n",
       "      <td>3.868286</td>\n",
       "      <td>0.000000</td>\n",
       "      <td>0.000000</td>\n",
       "      <td>0.000000</td>\n",
       "      <td>0.0</td>\n",
       "      <td>0.0</td>\n",
       "      <td>0.0</td>\n",
       "      <td>0.0</td>\n",
       "      <td>...</td>\n",
       "      <td>0.0</td>\n",
       "      <td>0.0</td>\n",
       "      <td>0.0</td>\n",
       "      <td>0.0</td>\n",
       "      <td>0.0</td>\n",
       "      <td>0.0</td>\n",
       "      <td>0.0</td>\n",
       "      <td>0.0</td>\n",
       "      <td>1.379602</td>\n",
       "      <td>0.000000</td>\n",
       "    </tr>\n",
       "    <tr>\n",
       "      <th>191812_3438_x6058_y10197</th>\n",
       "      <td>0.000000</td>\n",
       "      <td>3.395507</td>\n",
       "      <td>2.390255</td>\n",
       "      <td>0.000000</td>\n",
       "      <td>0.000000</td>\n",
       "      <td>0.000000</td>\n",
       "      <td>0.0</td>\n",
       "      <td>0.0</td>\n",
       "      <td>0.0</td>\n",
       "      <td>0.0</td>\n",
       "      <td>...</td>\n",
       "      <td>0.0</td>\n",
       "      <td>0.0</td>\n",
       "      <td>0.0</td>\n",
       "      <td>0.0</td>\n",
       "      <td>0.0</td>\n",
       "      <td>0.0</td>\n",
       "      <td>0.0</td>\n",
       "      <td>0.0</td>\n",
       "      <td>1.379262</td>\n",
       "      <td>0.000000</td>\n",
       "    </tr>\n",
       "    <tr>\n",
       "      <th>191812_3801_x5383_y20989</th>\n",
       "      <td>0.000000</td>\n",
       "      <td>3.757811</td>\n",
       "      <td>3.077727</td>\n",
       "      <td>2.136099</td>\n",
       "      <td>0.000000</td>\n",
       "      <td>0.032381</td>\n",
       "      <td>0.0</td>\n",
       "      <td>0.0</td>\n",
       "      <td>0.0</td>\n",
       "      <td>0.0</td>\n",
       "      <td>...</td>\n",
       "      <td>0.0</td>\n",
       "      <td>0.0</td>\n",
       "      <td>0.0</td>\n",
       "      <td>0.0</td>\n",
       "      <td>0.0</td>\n",
       "      <td>0.0</td>\n",
       "      <td>0.0</td>\n",
       "      <td>0.0</td>\n",
       "      <td>2.498038</td>\n",
       "      <td>0.000000</td>\n",
       "    </tr>\n",
       "    <tr>\n",
       "      <th>191812_2734_x6259_y10487</th>\n",
       "      <td>0.000000</td>\n",
       "      <td>3.320021</td>\n",
       "      <td>3.758123</td>\n",
       "      <td>0.000000</td>\n",
       "      <td>0.000000</td>\n",
       "      <td>0.000000</td>\n",
       "      <td>0.0</td>\n",
       "      <td>0.0</td>\n",
       "      <td>0.0</td>\n",
       "      <td>0.0</td>\n",
       "      <td>...</td>\n",
       "      <td>0.0</td>\n",
       "      <td>0.0</td>\n",
       "      <td>0.0</td>\n",
       "      <td>0.0</td>\n",
       "      <td>0.0</td>\n",
       "      <td>0.0</td>\n",
       "      <td>0.0</td>\n",
       "      <td>0.0</td>\n",
       "      <td>0.000000</td>\n",
       "      <td>0.010448</td>\n",
       "    </tr>\n",
       "  </tbody>\n",
       "</table>\n",
       "<p>5 rows × 618 columns</p>\n",
       "</div>"
      ],
      "text/plain": [
       "                          FRP-ipsi  MOp-ipsi  MOs-ipsi  SSs-ipsi   GU-ipsi  \\\n",
       "191812_2978_x7903_y22705  0.000000  3.654685  0.000000  0.000000  0.850459   \n",
       "191812_3163_x6264_y21524  0.047497  3.821450  3.868286  0.000000  0.000000   \n",
       "191812_3438_x6058_y10197  0.000000  3.395507  2.390255  0.000000  0.000000   \n",
       "191812_3801_x5383_y20989  0.000000  3.757811  3.077727  2.136099  0.000000   \n",
       "191812_2734_x6259_y10487  0.000000  3.320021  3.758123  0.000000  0.000000   \n",
       "\n",
       "                          VISC-ipsi  AUDd-ipsi  AUDp-ipsi  AUDpo-ipsi  \\\n",
       "191812_2978_x7903_y22705   0.000000        0.0        0.0         0.0   \n",
       "191812_3163_x6264_y21524   0.000000        0.0        0.0         0.0   \n",
       "191812_3438_x6058_y10197   0.000000        0.0        0.0         0.0   \n",
       "191812_3801_x5383_y20989   0.032381        0.0        0.0         0.0   \n",
       "191812_2734_x6259_y10487   0.000000        0.0        0.0         0.0   \n",
       "\n",
       "                          AUDv-ipsi  ...  PRM-contra  COPY-contra  PFL-contra  \\\n",
       "191812_2978_x7903_y22705        0.0  ...         0.0          0.0         0.0   \n",
       "191812_3163_x6264_y21524        0.0  ...         0.0          0.0         0.0   \n",
       "191812_3438_x6058_y10197        0.0  ...         0.0          0.0         0.0   \n",
       "191812_3801_x5383_y20989        0.0  ...         0.0          0.0         0.0   \n",
       "191812_2734_x6259_y10487        0.0  ...         0.0          0.0         0.0   \n",
       "\n",
       "                          FL-contra  FN-contra  IP-contra  DN-contra  \\\n",
       "191812_2978_x7903_y22705        0.0        0.0        0.0        0.0   \n",
       "191812_3163_x6264_y21524        0.0        0.0        0.0        0.0   \n",
       "191812_3438_x6058_y10197        0.0        0.0        0.0        0.0   \n",
       "191812_3801_x5383_y20989        0.0        0.0        0.0        0.0   \n",
       "191812_2734_x6259_y10487        0.0        0.0        0.0        0.0   \n",
       "\n",
       "                          VeCB-contra  SSp-ipsi  SSp-contra  \n",
       "191812_2978_x7903_y22705          0.0  1.851329    0.000000  \n",
       "191812_3163_x6264_y21524          0.0  1.379602    0.000000  \n",
       "191812_3438_x6058_y10197          0.0  1.379262    0.000000  \n",
       "191812_3801_x5383_y20989          0.0  2.498038    0.000000  \n",
       "191812_2734_x6259_y10487          0.0  0.000000    0.010448  \n",
       "\n",
       "[5 rows x 618 columns]"
      ]
     },
     "execution_count": 12,
     "metadata": {},
     "output_type": "execute_result"
    }
   ],
   "source": [
    "singlecell_axon_matrix = ns.features['projection_features'].raw_data.copy().loc[singlecell_list] / 1000\n",
    "singlecell_axon_matrix.drop(columns=['ipsi_fiber tracts', 'contra_fiber tracts'], inplace=True)\n",
    "\n",
    "old_col = singlecell_axon_matrix.columns.tolist()\n",
    "new_col = []\n",
    "for i in old_col:\n",
    "    if 'ipsi' in i:\n",
    "        i = i.replace('ipsi_', '')+'-ipsi'\n",
    "    else:\n",
    "        i = i.replace('contra_', '')+'-contra'\n",
    "    new_col.append(i)\n",
    "singlecell_axon_matrix.rename(columns=dict(zip(old_col, new_col)), inplace=True)\n",
    "singlecell_axon_matrix = sum_regions(singlecell_axon_matrix, 'SSp')\n",
    "singlecell_axon_matrix[singlecell_axon_matrix<1] = 1\n",
    "singlecell_axon_matrix = np.log(singlecell_axon_matrix)\n",
    "singlecell_axon_matrix.head()"
   ]
  },
  {
   "cell_type": "markdown",
   "metadata": {},
   "source": [
    "## Combine"
   ]
  },
  {
   "cell_type": "code",
   "execution_count": 13,
   "metadata": {},
   "outputs": [
    {
     "data": {
      "text/plain": [
       "MOp-L2/3     19\n",
       "SSp-L2/3     18\n",
       "MOs-L2/3     17\n",
       "SSp-L5_IT    15\n",
       "SSs-L2/3     11\n",
       "SSs-L5_IT    10\n",
       "MO-L5_IT      8\n",
       "Name: CellType_full, dtype: int64"
      ]
     },
     "execution_count": 13,
     "metadata": {},
     "output_type": "execute_result"
    }
   ],
   "source": [
    "df['CellType_full'].value_counts()"
   ]
  },
  {
   "cell_type": "code",
   "execution_count": 14,
   "metadata": {},
   "outputs": [],
   "source": [
    "cdict = {}\n",
    "rlist = ['SSp-L2/3', 'SSs-L2/3', 'SSp-L5_IT', 'SSs-L5_IT', 'MOp-L2/3', 'MOs-L2/3', 'MO-L5_IT']\n",
    "\n",
    "clist = []\n",
    "ct_list = []\n",
    "exp_list = []\n",
    "reg_list = []\n",
    "tp_dict = {}\n",
    "for i,cgroup in enumerate(rlist[:]):\n",
    "    \n",
    "    # mlist\n",
    "    mlist = meso_meta_selected[meso_meta_selected['reassigned primary-layer']==cgroup].copy()\n",
    "    mlist = mlist.sort_values(['reassigned primary-layer', 'reassigned primary-layer_full']).index.tolist()\n",
    "    # slist\n",
    "    if cgroup in list(cdict.keys()):\n",
    "        slist = cdict[cgroup]\n",
    "    else:\n",
    "        slist = meta_single[meta_single['CellType_full']==cgroup].copy()\n",
    "        slist = slist.sort_values(['CellType_full', 'Manually_corrected_soma_region']).index.tolist()\n",
    "    \n",
    "    tp_dict[cgroup+'_meso'] = mlist\n",
    "    tp_dict[cgroup+'_single'] = slist\n",
    "    clist = clist + mlist\n",
    "    clist = clist + slist\n",
    "    n = len(mlist)+len(slist)\n",
    "    ct_list = ct_list + [cgroup] * n\n",
    "    exp_list = exp_list + (['meso']*len(mlist) + ['single']*len(slist))\n",
    "    \n",
    "    # 1. select regions\n",
    "    mdf = mesoscale_projection_volumes.loc[mlist].copy()\n",
    "    mdf = np.log(mdf*100+1)\n",
    "    sdf = singlecell_axon_matrix.loc[slist].copy()         "
   ]
  },
  {
   "cell_type": "code",
   "execution_count": 15,
   "metadata": {},
   "outputs": [
    {
     "data": {
      "text/plain": [
       "MOs-L2/3     17\n",
       "MOp-L2/3     17\n",
       "SSp-L2/3     16\n",
       "SSp-L5_IT    15\n",
       "SSs-L2/3     11\n",
       "SSs-L5_IT    10\n",
       "MO-L5_IT      8\n",
       "Name: CellType_full, dtype: int64"
      ]
     },
     "execution_count": 15,
     "metadata": {},
     "output_type": "execute_result"
    }
   ],
   "source": [
    "meta_single['CellType_full'].value_counts()"
   ]
  },
  {
   "cell_type": "code",
   "execution_count": 16,
   "metadata": {},
   "outputs": [
    {
     "data": {
      "text/plain": [
       "MO-L5_IT     9\n",
       "MOs-L2/3     8\n",
       "SSp-L2/3     8\n",
       "SSp-L5_IT    7\n",
       "SSs-L2/3     3\n",
       "MOp-L2/3     2\n",
       "SSs-L5_IT    2\n",
       "Name: reassigned primary-layer, dtype: int64"
      ]
     },
     "execution_count": 16,
     "metadata": {},
     "output_type": "execute_result"
    }
   ],
   "source": [
    "meso_meta_selected.loc[meso_list, 'reassigned primary-layer'].value_counts()"
   ]
  },
  {
   "cell_type": "code",
   "execution_count": 17,
   "metadata": {},
   "outputs": [],
   "source": [
    "s_reg_list = ['SSp-ipsi',\n",
    " 'MOp-ipsi',\n",
    " 'MOs-ipsi',\n",
    " 'CP-ipsi',\n",
    " 'SSs-ipsi',\n",
    " 'MOs-contra',\n",
    " 'MOp-contra',\n",
    " 'SSp-contra',\n",
    " 'VISC-ipsi',\n",
    " 'SSs-contra',\n",
    " 'AIp-ipsi',\n",
    " 'FRP-ipsi',\n",
    " 'VISC-contra',\n",
    " 'AId-ipsi',\n",
    " 'GU-ipsi',\n",
    " 'ENTl-contra',\n",
    " 'CP-contra',\n",
    " 'VISa-ipsi',\n",
    " 'ACAd-ipsi',\n",
    " 'ECT-contra',\n",
    " 'EPd-ipsi',\n",
    " 'FRP-contra',\n",
    " 'GU-contra',\n",
    " 'ENTl-ipsi',\n",
    " 'VISrl-ipsi',\n",
    " 'RSPagl-ipsi',\n",
    " 'AIp-contra']"
   ]
  },
  {
   "cell_type": "code",
   "execution_count": 18,
   "metadata": {},
   "outputs": [
    {
     "data": {
      "text/plain": [
       "(133, 27)"
      ]
     },
     "execution_count": 18,
     "metadata": {},
     "output_type": "execute_result"
    }
   ],
   "source": [
    "thres = 0.5\n",
    "mdf = mesoscale_projection_volumes.copy()\n",
    "mdf = np.log(mdf*100+1)\n",
    "sdf = singlecell_axon_matrix.copy()\n",
    "\n",
    "# res = pd.concat([sdf], axis=0)\n",
    "# res = res.loc[singlecell_list]\n",
    "# reg_list = (res>thres).sum(axis=0)\n",
    "# reg_list = reg_list[reg_list>=5]\n",
    "# reg_list = reg_list.sort_values(ascending=False).head(np.min([40, len(reg_list)])).index.tolist()\n",
    "# s_reg_list = reg_list\n",
    "\n",
    "res = pd.concat([mdf, sdf], axis=0)\n",
    "res = res.loc[clist, s_reg_list]\n",
    "res.shape"
   ]
  },
  {
   "cell_type": "markdown",
   "metadata": {},
   "source": [
    "## Heatmap"
   ]
  },
  {
   "cell_type": "code",
   "execution_count": 19,
   "metadata": {},
   "outputs": [
    {
     "data": {
      "image/png": "[encoded data removed]",
      "text/plain": [
       "<Figure size 600x600 with 18 Axes>"
      ]
     },
     "metadata": {
      "needs_background": "light"
     },
     "output_type": "display_data"
    }
   ],
   "source": [
    "fig = plt.figure(1, figsize=(6,6), dpi=100)\n",
    "grid = plt.GridSpec(len(res),20,wspace=0.0, hspace=0.0)\n",
    "\n",
    "cy = 0\n",
    "meso_colorbar = False\n",
    "single_colorbar = False\n",
    "cbar_size = int(len(res)/5)\n",
    "\n",
    "meso_thres = 0.5\n",
    "single_thres_mm = 1\n",
    "single_thres = np.log(thres+1)\n",
    "meso_max = 4\n",
    "single_max = 4\n",
    "\n",
    "for i, cgroup in enumerate(rlist[:]):\n",
    "    hsep = False\n",
    "    # mesoscale\n",
    "    ctag = cgroup+'_meso'\n",
    "    cn = len(tp_dict[ctag])\n",
    "    if cn>0:\n",
    "        ax = fig.add_subplot(grid[cy:(cy+cn),4:18])\n",
    "        if not meso_colorbar:\n",
    "            cbar=True\n",
    "            bax = fig.add_subplot(grid[(int(len(res)/2)):(int(len(res)/2)+cbar_size),19:])\n",
    "            meso_colorbar = True\n",
    "        else:\n",
    "            cbar=False\n",
    "        ax.set_facecolor('grey')\n",
    "        im=sns.heatmap(res.loc[tp_dict[ctag]],\n",
    "                           cmap='viridis',\n",
    "                           mask=(res.loc[tp_dict[ctag]]<meso_thres),\n",
    "                           yticklabels=0,\n",
    "                           xticklabels=0,\n",
    "                           ax=ax,\n",
    "                       vmin=0,\n",
    "                       vmax=meso_max,\n",
    "                           cbar=cbar,\n",
    "                       cbar_ax=bax\n",
    "                          )\n",
    "        if not hsep:\n",
    "            ax.hlines([0], *ax.get_xlim(), colors='k', lw=0.5)\n",
    "            hsep = True\n",
    "    cy = cy + cn\n",
    "    \n",
    "    # single cell\n",
    "    ctag = cgroup+'_single'\n",
    "    cn = len(tp_dict[ctag])\n",
    "    if cn>0:\n",
    "        ax = fig.add_subplot(grid[cy:(cy+cn),4:18])\n",
    "        if not single_colorbar:\n",
    "            cbar=True\n",
    "            bax = fig.add_subplot(grid[(int(len(res)*0.75)):(int(len(res)*0.75)+cbar_size),19:])\n",
    "            single_colorbar = True\n",
    "        else:\n",
    "            cbar=False\n",
    "        ax.set_facecolor('grey')\n",
    "        if cgroup == rlist[-1]:\n",
    "            xticklabels = True\n",
    "        else:\n",
    "            xticklabels = False\n",
    "        im=sns.heatmap(res.loc[tp_dict[ctag]],\n",
    "                           cmap='viridis',\n",
    "                           mask=(res.loc[tp_dict[ctag]]<single_thres),\n",
    "                           yticklabels=0,\n",
    "                           xticklabels=xticklabels,\n",
    "                           ax=ax,\n",
    "                       vmin=0,\n",
    "                       vmax=single_max,\n",
    "                           cbar=cbar,\n",
    "                       cbar_ax=bax\n",
    "                          )\n",
    "        if not hsep:\n",
    "            ax.hlines([0], *ax.get_xlim(), colors='k', lw=0.5)\n",
    "            hsep = True\n",
    "    cy = cy + cn    \n",
    "\n",
    "\n",
    "\n",
    "rax = fig.add_subplot(grid[:,:2])\n",
    "h_0 = 1\n",
    "h_unit = 1/len(res)\n",
    "for i in rlist:\n",
    "    n = ct_list.count(i)\n",
    "    h_0 = h_0 - h_unit*n\n",
    "    if n>0:\n",
    "        rax.text(1,h_0+h_unit*n/2, i, fontdict={'size':8, 'ha':'right', 'va':'center'})\n",
    "rax.axis('off')\n",
    "# rax.hlines(1-np.array(sep_list)/len(res), xmin=0.9, xmax=1, colors='k', lw=0.5)\n",
    "rax.set_xlim((0,1))\n",
    "rax.set_ylim((0,1))\n",
    "\n",
    "rax = fig.add_subplot(grid[:,2:3])\n",
    "row_colors = pd.DataFrame({'Region':ct_list, 'Meso/Single':exp_list}, index=res.index)\n",
    "lut = dict(zip(row_colors['Region'].unique(), [0, 1]*100))\n",
    "row_colors['Region'] = row_colors['Region'].map(lut)\n",
    "row_colors.loc[row_colors['Meso/Single']=='meso', 'Region'] = 3\n",
    "\n",
    "# lut = dict(zip(row_colors['Meso/Single'].unique(), \"rb\"*100))\n",
    "# row_colors['Meso/Single'] = row_colors['Meso/Single'].map(lut)\n",
    "\n",
    "im=sns.heatmap(row_colors[['Region']],\n",
    "                   cmap=['grey', 'darkgrey', 'orange'],\n",
    "                   ax=rax,\n",
    "                   yticklabels=0,\n",
    "                   xticklabels=0,\n",
    "#                row_colors=row_colors\n",
    "                   cbar=False\n",
    "                  )\n",
    "\n",
    "fig.savefig('../Figure/CTX_L2-5_IT_projection_matrix_singlecell.pdf', bbox_inches='tight')"
   ]
  },
  {
   "cell_type": "markdown",
   "metadata": {},
   "source": [
    "## Make figures separately for each region"
   ]
  },
  {
   "cell_type": "code",
   "execution_count": 20,
   "metadata": {},
   "outputs": [
    {
     "data": {
      "text/html": [
       "<div>\n",
       "<style scoped>\n",
       "    .dataframe tbody tr th:only-of-type {\n",
       "        vertical-align: middle;\n",
       "    }\n",
       "\n",
       "    .dataframe tbody tr th {\n",
       "        vertical-align: top;\n",
       "    }\n",
       "\n",
       "    .dataframe thead th {\n",
       "        text-align: right;\n",
       "    }\n",
       "</style>\n",
       "<table border=\"1\" class=\"dataframe\">\n",
       "  <thead>\n",
       "    <tr style=\"text-align: right;\">\n",
       "      <th></th>\n",
       "      <th>CellType_full</th>\n",
       "    </tr>\n",
       "  </thead>\n",
       "  <tbody>\n",
       "    <tr>\n",
       "      <th>591612976</th>\n",
       "      <td>MO-L5_IT</td>\n",
       "    </tr>\n",
       "    <tr>\n",
       "      <th>880719308</th>\n",
       "      <td>MO-L5_IT</td>\n",
       "    </tr>\n",
       "    <tr>\n",
       "      <th>288169842</th>\n",
       "      <td>MO-L5_IT</td>\n",
       "    </tr>\n",
       "    <tr>\n",
       "      <th>294525944</th>\n",
       "      <td>MO-L5_IT</td>\n",
       "    </tr>\n",
       "    <tr>\n",
       "      <th>505790715</th>\n",
       "      <td>MO-L5_IT</td>\n",
       "    </tr>\n",
       "    <tr>\n",
       "      <th>...</th>\n",
       "      <td>...</td>\n",
       "    </tr>\n",
       "    <tr>\n",
       "      <th>191812_3762_x9097_y24261</th>\n",
       "      <td>SSs-L5_IT</td>\n",
       "    </tr>\n",
       "    <tr>\n",
       "      <th>191812_4664_x8027_y25176</th>\n",
       "      <td>SSs-L5_IT</td>\n",
       "    </tr>\n",
       "    <tr>\n",
       "      <th>191812_5158_x9017_y25877</th>\n",
       "      <td>SSs-L5_IT</td>\n",
       "    </tr>\n",
       "    <tr>\n",
       "      <th>191812_5221_x9028_y25900</th>\n",
       "      <td>SSs-L5_IT</td>\n",
       "    </tr>\n",
       "    <tr>\n",
       "      <th>191812_5676_x8072_y26215</th>\n",
       "      <td>SSs-L5_IT</td>\n",
       "    </tr>\n",
       "  </tbody>\n",
       "</table>\n",
       "<p>133 rows × 1 columns</p>\n",
       "</div>"
      ],
      "text/plain": [
       "                         CellType_full\n",
       "591612976                     MO-L5_IT\n",
       "880719308                     MO-L5_IT\n",
       "288169842                     MO-L5_IT\n",
       "294525944                     MO-L5_IT\n",
       "505790715                     MO-L5_IT\n",
       "...                                ...\n",
       "191812_3762_x9097_y24261     SSs-L5_IT\n",
       "191812_4664_x8027_y25176     SSs-L5_IT\n",
       "191812_5158_x9017_y25877     SSs-L5_IT\n",
       "191812_5221_x9028_y25900     SSs-L5_IT\n",
       "191812_5676_x8072_y26215     SSs-L5_IT\n",
       "\n",
       "[133 rows x 1 columns]"
      ]
     },
     "execution_count": 20,
     "metadata": {},
     "output_type": "execute_result"
    }
   ],
   "source": [
    "combine_meta = meso_meta_selected[['reassigned primary-layer']].copy()\n",
    "combine_meta.rename(columns={'reassigned primary-layer':'CellType_full'}, inplace=True)\n",
    "combine_meta = pd.concat([combine_meta, meta_single[['CellType_full']]], axis=0)\n",
    "\n",
    "combine_meta"
   ]
  },
  {
   "cell_type": "code",
   "execution_count": 21,
   "metadata": {},
   "outputs": [
    {
     "data": {
      "text/html": [
       "<div>\n",
       "<style scoped>\n",
       "    .dataframe tbody tr th:only-of-type {\n",
       "        vertical-align: middle;\n",
       "    }\n",
       "\n",
       "    .dataframe tbody tr th {\n",
       "        vertical-align: top;\n",
       "    }\n",
       "\n",
       "    .dataframe thead th {\n",
       "        text-align: right;\n",
       "    }\n",
       "</style>\n",
       "<table border=\"1\" class=\"dataframe\">\n",
       "  <thead>\n",
       "    <tr style=\"text-align: right;\">\n",
       "      <th></th>\n",
       "      <th>mouse-strain</th>\n",
       "      <th>dataset-name</th>\n",
       "      <th>graph-order</th>\n",
       "      <th>primary-injection-structure</th>\n",
       "      <th>secondary-injection-structures</th>\n",
       "      <th>reassigned primary-layer</th>\n",
       "      <th>Sum PV (excl fiber tracts)</th>\n",
       "      <th>reassigned primary-layer_full</th>\n",
       "    </tr>\n",
       "    <tr>\n",
       "      <th>image-series-id</th>\n",
       "      <th></th>\n",
       "      <th></th>\n",
       "      <th></th>\n",
       "      <th></th>\n",
       "      <th></th>\n",
       "      <th></th>\n",
       "      <th></th>\n",
       "      <th></th>\n",
       "    </tr>\n",
       "  </thead>\n",
       "  <tbody>\n",
       "    <tr>\n",
       "      <th>591612976</th>\n",
       "      <td>Tlx3-Cre_PL56</td>\n",
       "      <td>mca_classic</td>\n",
       "      <td>18</td>\n",
       "      <td>MOp</td>\n",
       "      <td>MOs</td>\n",
       "      <td>MO-L5_IT</td>\n",
       "      <td>2.568834</td>\n",
       "      <td>MOp-L5_IT</td>\n",
       "    </tr>\n",
       "    <tr>\n",
       "      <th>880719308</th>\n",
       "      <td>Tlx3-Cre_PL56</td>\n",
       "      <td>mca_classic</td>\n",
       "      <td>18</td>\n",
       "      <td>MOp</td>\n",
       "      <td>0</td>\n",
       "      <td>MO-L5_IT</td>\n",
       "      <td>2.887843</td>\n",
       "      <td>MOp-L5_IT</td>\n",
       "    </tr>\n",
       "    <tr>\n",
       "      <th>288169842</th>\n",
       "      <td>Tlx3-Cre_PL56</td>\n",
       "      <td>mca_classic</td>\n",
       "      <td>24</td>\n",
       "      <td>MOs</td>\n",
       "      <td>NaN</td>\n",
       "      <td>MO-L5_IT</td>\n",
       "      <td>2.701226</td>\n",
       "      <td>MOs-L5_IT</td>\n",
       "    </tr>\n",
       "    <tr>\n",
       "      <th>294525944</th>\n",
       "      <td>Tlx3-Cre_PL56</td>\n",
       "      <td>mca_classic</td>\n",
       "      <td>24</td>\n",
       "      <td>MOs</td>\n",
       "      <td>NaN</td>\n",
       "      <td>MO-L5_IT</td>\n",
       "      <td>4.143837</td>\n",
       "      <td>MOs-L5_IT</td>\n",
       "    </tr>\n",
       "    <tr>\n",
       "      <th>505790715</th>\n",
       "      <td>Tlx3-Cre_PL56</td>\n",
       "      <td>T504 Connectivity Mapping</td>\n",
       "      <td>24</td>\n",
       "      <td>MOs</td>\n",
       "      <td>NaN</td>\n",
       "      <td>MO-L5_IT</td>\n",
       "      <td>3.833373</td>\n",
       "      <td>MOs-L5_IT</td>\n",
       "    </tr>\n",
       "  </tbody>\n",
       "</table>\n",
       "</div>"
      ],
      "text/plain": [
       "                  mouse-strain               dataset-name  graph-order  \\\n",
       "image-series-id                                                          \n",
       "591612976        Tlx3-Cre_PL56                mca_classic           18   \n",
       "880719308        Tlx3-Cre_PL56                mca_classic           18   \n",
       "288169842        Tlx3-Cre_PL56                mca_classic           24   \n",
       "294525944        Tlx3-Cre_PL56                mca_classic           24   \n",
       "505790715        Tlx3-Cre_PL56  T504 Connectivity Mapping           24   \n",
       "\n",
       "                primary-injection-structure secondary-injection-structures  \\\n",
       "image-series-id                                                              \n",
       "591612976                               MOp                            MOs   \n",
       "880719308                               MOp                              0   \n",
       "288169842                               MOs                            NaN   \n",
       "294525944                               MOs                            NaN   \n",
       "505790715                               MOs                            NaN   \n",
       "\n",
       "                reassigned primary-layer  Sum PV (excl fiber tracts)  \\\n",
       "image-series-id                                                        \n",
       "591612976                       MO-L5_IT                    2.568834   \n",
       "880719308                       MO-L5_IT                    2.887843   \n",
       "288169842                       MO-L5_IT                    2.701226   \n",
       "294525944                       MO-L5_IT                    4.143837   \n",
       "505790715                       MO-L5_IT                    3.833373   \n",
       "\n",
       "                reassigned primary-layer_full  \n",
       "image-series-id                                \n",
       "591612976                           MOp-L5_IT  \n",
       "880719308                           MOp-L5_IT  \n",
       "288169842                           MOs-L5_IT  \n",
       "294525944                           MOs-L5_IT  \n",
       "505790715                           MOs-L5_IT  "
      ]
     },
     "execution_count": 21,
     "metadata": {},
     "output_type": "execute_result"
    }
   ],
   "source": [
    "meso_meta_selected.head()"
   ]
  },
  {
   "cell_type": "code",
   "execution_count": 22,
   "metadata": {},
   "outputs": [
    {
     "data": {
      "text/html": [
       "<div>\n",
       "<style scoped>\n",
       "    .dataframe tbody tr th:only-of-type {\n",
       "        vertical-align: middle;\n",
       "    }\n",
       "\n",
       "    .dataframe tbody tr th {\n",
       "        vertical-align: top;\n",
       "    }\n",
       "\n",
       "    .dataframe thead th {\n",
       "        text-align: right;\n",
       "    }\n",
       "</style>\n",
       "<table border=\"1\" class=\"dataframe\">\n",
       "  <thead>\n",
       "    <tr style=\"text-align: right;\">\n",
       "      <th></th>\n",
       "      <th>Registration_Region</th>\n",
       "      <th>Region</th>\n",
       "      <th>Suggested_region</th>\n",
       "      <th>Layer</th>\n",
       "      <th>CreLine</th>\n",
       "      <th>Brain</th>\n",
       "      <th>Yun_celltype</th>\n",
       "      <th>Long_projection</th>\n",
       "      <th>Corrected Layer</th>\n",
       "      <th>HZ comments</th>\n",
       "      <th>HZ comments v2</th>\n",
       "      <th>HZ comments v2.1</th>\n",
       "      <th>Manually_corrected_soma_region</th>\n",
       "      <th>CellType_full</th>\n",
       "      <th>swc</th>\n",
       "      <th>Long_arbor(mm)</th>\n",
       "    </tr>\n",
       "  </thead>\n",
       "  <tbody>\n",
       "    <tr>\n",
       "      <th>191812_2978_x7903_y22705</th>\n",
       "      <td>MOp</td>\n",
       "      <td>MOp</td>\n",
       "      <td>MOp</td>\n",
       "      <td>5</td>\n",
       "      <td>Plxnd1</td>\n",
       "      <td>191812</td>\n",
       "      <td>NaN</td>\n",
       "      <td>True</td>\n",
       "      <td>5</td>\n",
       "      <td>For Fig 5g and Fig 6e-f</td>\n",
       "      <td>Fig 5</td>\n",
       "      <td>NaN</td>\n",
       "      <td>MOp</td>\n",
       "      <td>MO-L5_IT</td>\n",
       "      <td>191812_2978_x7903_y22705.auto_r.swc</td>\n",
       "      <td>21.207958</td>\n",
       "    </tr>\n",
       "    <tr>\n",
       "      <th>191812_3163_x6264_y21524</th>\n",
       "      <td>MOp</td>\n",
       "      <td>MOp</td>\n",
       "      <td>MOp</td>\n",
       "      <td>5</td>\n",
       "      <td>Plxnd1</td>\n",
       "      <td>191812</td>\n",
       "      <td>NaN</td>\n",
       "      <td>True</td>\n",
       "      <td>5</td>\n",
       "      <td>For Fig 5g and Fig 6e-f</td>\n",
       "      <td>Fig 5</td>\n",
       "      <td>Fig 5a</td>\n",
       "      <td>MOp</td>\n",
       "      <td>MO-L5_IT</td>\n",
       "      <td>191812_3163_x6264_y21524.auto_r.swc</td>\n",
       "      <td>167.152109</td>\n",
       "    </tr>\n",
       "    <tr>\n",
       "      <th>191812_3438_x6058_y10197</th>\n",
       "      <td>MOp</td>\n",
       "      <td>MOp</td>\n",
       "      <td>MOp</td>\n",
       "      <td>5</td>\n",
       "      <td>Plxnd1</td>\n",
       "      <td>191812</td>\n",
       "      <td>NaN</td>\n",
       "      <td>True</td>\n",
       "      <td>5</td>\n",
       "      <td>For Fig 5g and Fig 6e-f</td>\n",
       "      <td>Fig 5</td>\n",
       "      <td>Fig 5a</td>\n",
       "      <td>MOp</td>\n",
       "      <td>MO-L5_IT</td>\n",
       "      <td>191812_3438_x6058_y10197.auto_r.swc</td>\n",
       "      <td>32.294832</td>\n",
       "    </tr>\n",
       "    <tr>\n",
       "      <th>191812_3801_x5383_y20989</th>\n",
       "      <td>MOp</td>\n",
       "      <td>MOp</td>\n",
       "      <td>MOp</td>\n",
       "      <td>5</td>\n",
       "      <td>Plxnd1</td>\n",
       "      <td>191812</td>\n",
       "      <td>NaN</td>\n",
       "      <td>True</td>\n",
       "      <td>5</td>\n",
       "      <td>For Fig 5g and Fig 6e-f</td>\n",
       "      <td>Fig 5</td>\n",
       "      <td>Fig 5a</td>\n",
       "      <td>MOp</td>\n",
       "      <td>MO-L5_IT</td>\n",
       "      <td>191812_3801_x5383_y20989.auto_r.swc</td>\n",
       "      <td>100.847360</td>\n",
       "    </tr>\n",
       "    <tr>\n",
       "      <th>191812_2734_x6259_y10487</th>\n",
       "      <td>MOs</td>\n",
       "      <td>MOs</td>\n",
       "      <td>MOs</td>\n",
       "      <td>5</td>\n",
       "      <td>Plxnd1</td>\n",
       "      <td>191812</td>\n",
       "      <td>NaN</td>\n",
       "      <td>True</td>\n",
       "      <td>5</td>\n",
       "      <td>NaN</td>\n",
       "      <td>Fig 5</td>\n",
       "      <td>Fig 5a</td>\n",
       "      <td>MOs</td>\n",
       "      <td>MO-L5_IT</td>\n",
       "      <td>191812_2734_x6259_y10487.auto_r.swc</td>\n",
       "      <td>52.758429</td>\n",
       "    </tr>\n",
       "  </tbody>\n",
       "</table>\n",
       "</div>"
      ],
      "text/plain": [
       "                         Registration_Region Region Suggested_region Layer  \\\n",
       "191812_2978_x7903_y22705                 MOp    MOp              MOp     5   \n",
       "191812_3163_x6264_y21524                 MOp    MOp              MOp     5   \n",
       "191812_3438_x6058_y10197                 MOp    MOp              MOp     5   \n",
       "191812_3801_x5383_y20989                 MOp    MOp              MOp     5   \n",
       "191812_2734_x6259_y10487                 MOs    MOs              MOs     5   \n",
       "\n",
       "                         CreLine   Brain Yun_celltype  Long_projection  \\\n",
       "191812_2978_x7903_y22705  Plxnd1  191812          NaN             True   \n",
       "191812_3163_x6264_y21524  Plxnd1  191812          NaN             True   \n",
       "191812_3438_x6058_y10197  Plxnd1  191812          NaN             True   \n",
       "191812_3801_x5383_y20989  Plxnd1  191812          NaN             True   \n",
       "191812_2734_x6259_y10487  Plxnd1  191812          NaN             True   \n",
       "\n",
       "                         Corrected Layer              HZ comments  \\\n",
       "191812_2978_x7903_y22705               5  For Fig 5g and Fig 6e-f   \n",
       "191812_3163_x6264_y21524               5  For Fig 5g and Fig 6e-f   \n",
       "191812_3438_x6058_y10197               5  For Fig 5g and Fig 6e-f   \n",
       "191812_3801_x5383_y20989               5  For Fig 5g and Fig 6e-f   \n",
       "191812_2734_x6259_y10487               5                      NaN   \n",
       "\n",
       "                         HZ comments v2 HZ comments v2.1  \\\n",
       "191812_2978_x7903_y22705          Fig 5              NaN   \n",
       "191812_3163_x6264_y21524          Fig 5           Fig 5a   \n",
       "191812_3438_x6058_y10197          Fig 5           Fig 5a   \n",
       "191812_3801_x5383_y20989          Fig 5           Fig 5a   \n",
       "191812_2734_x6259_y10487          Fig 5           Fig 5a   \n",
       "\n",
       "                         Manually_corrected_soma_region CellType_full  \\\n",
       "191812_2978_x7903_y22705                            MOp      MO-L5_IT   \n",
       "191812_3163_x6264_y21524                            MOp      MO-L5_IT   \n",
       "191812_3438_x6058_y10197                            MOp      MO-L5_IT   \n",
       "191812_3801_x5383_y20989                            MOp      MO-L5_IT   \n",
       "191812_2734_x6259_y10487                            MOs      MO-L5_IT   \n",
       "\n",
       "                                                          swc  Long_arbor(mm)  \n",
       "191812_2978_x7903_y22705  191812_2978_x7903_y22705.auto_r.swc       21.207958  \n",
       "191812_3163_x6264_y21524  191812_3163_x6264_y21524.auto_r.swc      167.152109  \n",
       "191812_3438_x6058_y10197  191812_3438_x6058_y10197.auto_r.swc       32.294832  \n",
       "191812_3801_x5383_y20989  191812_3801_x5383_y20989.auto_r.swc      100.847360  \n",
       "191812_2734_x6259_y10487  191812_2734_x6259_y10487.auto_r.swc       52.758429  "
      ]
     },
     "execution_count": 22,
     "metadata": {},
     "output_type": "execute_result"
    }
   ],
   "source": [
    "meta_single.head()"
   ]
  },
  {
   "cell_type": "markdown",
   "metadata": {},
   "source": [
    "### 1. SSp"
   ]
  },
  {
   "cell_type": "code",
   "execution_count": 23,
   "metadata": {},
   "outputs": [
    {
     "name": "stdout",
     "output_type": "stream",
     "text": [
      "MO-L5_IT:\t9\n",
      "MOp-L2/3:\t2\n",
      "MOs-L2/3:\t8\n",
      "SSp-L2/3:\t8\n",
      "SSp-L5_IT:\t7\n",
      "SSs-L2/3:\t3\n",
      "SSs-L5_IT:\t2\n"
     ]
    }
   ],
   "source": [
    "mdf = mesoscale_projection_volumes.copy()\n",
    "mdf_max = pd.DataFrame(columns=mdf.columns)\n",
    "meso_meta_selected_max = pd.DataFrame(columns=['reassigned primary-layer'])\n",
    "ugroups = meso_meta_selected['reassigned primary-layer'].unique().tolist()\n",
    "for i in ugroups:\n",
    "    tlist = meso_meta_selected[meso_meta_selected['reassigned primary-layer']==i].index\n",
    "    print('%s:\\t%d' % (i, len(tlist)))\n",
    "    tp = np.array(mdf.loc[tlist].max(axis=0).tolist()).reshape(1,-1)\n",
    "    tp = pd.DataFrame(tp, index=['meso_max_'+i], columns=mdf.columns)\n",
    "    mdf_max = pd.concat([mdf_max, tp], axis=0)\n",
    "    tp = pd.DataFrame([i], index=['meso_max_'+i], columns=['reassigned primary-layer'])\n",
    "    meso_meta_selected_max = pd.concat([meso_meta_selected_max, tp], axis=0)"
   ]
  },
  {
   "cell_type": "code",
   "execution_count": 24,
   "metadata": {},
   "outputs": [
    {
     "data": {
      "text/plain": [
       "meso_max_MO-L5_IT      MO-L5_IT\n",
       "meso_max_MOp-L2/3      MOp-L2/3\n",
       "meso_max_MOs-L2/3      MOs-L2/3\n",
       "meso_max_SSp-L2/3      SSp-L2/3\n",
       "meso_max_SSp-L5_IT    SSp-L5_IT\n",
       "meso_max_SSs-L2/3      SSs-L2/3\n",
       "meso_max_SSs-L5_IT    SSs-L5_IT\n",
       "Name: reassigned primary-layer, dtype: object"
      ]
     },
     "execution_count": 24,
     "metadata": {},
     "output_type": "execute_result"
    }
   ],
   "source": [
    "meso_meta_selected_max['reassigned primary-layer']"
   ]
  },
  {
   "cell_type": "code",
   "execution_count": 25,
   "metadata": {},
   "outputs": [
    {
     "name": "stdout",
     "output_type": "stream",
     "text": [
      "# targets:\t40\n",
      "33\n",
      "SSp-L2/3\n",
      "6 3.3125\n",
      "SSp-L5_IT\n",
      "20 11.8\n"
     ]
    },
    {
     "data": {
      "image/png": "[encoded data removed]",
      "text/plain": [
       "<Figure size 900x700 with 8 Axes>"
      ]
     },
     "metadata": {
      "needs_background": "light"
     },
     "output_type": "display_data"
    }
   ],
   "source": [
    "def heatmap_by_groups(rlist, group_name, primary_target, thres_meso = 0.1, thres_single_mm = 1, figsize=(8,4)):\n",
    "    thres_single_log = np.log(thres_single_mm)\n",
    "    # Select experiments\n",
    "    cdict = {}\n",
    "    \n",
    "    clist = []\n",
    "    ct_list = []\n",
    "    exp_list = []\n",
    "    reg_list = []\n",
    "    tp_dict = {}\n",
    "    for i,cgroup in enumerate(rlist[:]):\n",
    "\n",
    "        # mlist\n",
    "        mlist = meso_meta_selected_max[meso_meta_selected_max['reassigned primary-layer']==cgroup].index.tolist()\n",
    "        # slist\n",
    "        if cgroup in list(cdict.keys()):\n",
    "            slist = cdict[cgroup]\n",
    "        else:\n",
    "            slist = meta_single[meta_single['CellType_full']==cgroup].copy()\n",
    "            slist = slist.sort_values(['CellType_full', 'Manually_corrected_soma_region']).index.tolist()\n",
    "\n",
    "        tp_dict[cgroup+'_meso'] = mlist\n",
    "        tp_dict[cgroup+'_single'] = slist\n",
    "        clist = clist + mlist\n",
    "        clist = clist + slist\n",
    "        n = len(mlist)+len(slist)\n",
    "        ct_list = ct_list + [cgroup] * n\n",
    "        exp_list = exp_list + (['meso']*len(mlist) + ['single']*len(slist))\n",
    "    \n",
    "    mlist = [i for i in clist if i in meso_meta_selected_max.index]\n",
    "    slist = [i for i in clist if i in meta_single.index]\n",
    "    \n",
    "    # Select regions\n",
    "    mdf = mdf_max.copy().loc[mlist]\n",
    "    mdf = np.log(mdf*100+1)\n",
    "    sdf = singlecell_axon_matrix.copy().loc[slist]\n",
    "\n",
    "    res = pd.concat([sdf], axis=0)\n",
    "    reg_list = (res>thres_single_log).sum(axis=0)\n",
    "    reg_list = reg_list[reg_list>=1]\n",
    "    reg_list = reg_list.sort_values(ascending=False).head(np.min([40, len(reg_list)])).index.tolist()\n",
    "    s_reg_list = reg_list\n",
    "\n",
    "    # Make figure\n",
    "    # Put the source region at first\n",
    "    if primary_target in s_reg_list:\n",
    "        s_reg_list.remove(primary_target)\n",
    "    s_reg_list = [primary_target] + s_reg_list\n",
    "    print('# targets:\\t%d' % len(s_reg_list))\n",
    "\n",
    "    res = pd.concat([mdf, sdf], axis=0)\n",
    "    res = res.loc[clist, s_reg_list]\n",
    "\n",
    "    fig = plt.figure(1, figsize=figsize, dpi=100)\n",
    "    grid = plt.GridSpec(len(ct_list),50,wspace=0.0, hspace=0.0)\n",
    "\n",
    "    cy = 0\n",
    "    meso_colorbar = False\n",
    "    single_colorbar = False\n",
    "    cbar_size = int(len(res)/3)\n",
    "\n",
    "    ## Part 1: side bar\n",
    "    rax = fig.add_subplot(grid[:,:4])\n",
    "    h_0 = 1\n",
    "    h_unit = 1/len(res)\n",
    "    for i in rlist:\n",
    "        n = ct_list.count(i)\n",
    "        h_0 = h_0 - h_unit*n\n",
    "        if n>0:\n",
    "            rax.text(1,h_0+h_unit*n/2, i, fontdict={'size':16, 'ha':'right', 'va':'center'})\n",
    "    rax.axis('off')\n",
    "    # rax.hlines(1-np.array(sep_list)/len(res), xmin=0.9, xmax=1, colors='k', lw=0.5)\n",
    "    rax.set_xlim((0,1))\n",
    "    rax.set_ylim((0,1))\n",
    "\n",
    "    rax = fig.add_subplot(grid[:,5:7])\n",
    "    row_colors = pd.DataFrame({'Region':ct_list, 'Meso/Single':exp_list})\n",
    "    lut = dict(zip(row_colors['Region'].unique(), [0, 1]*100))\n",
    "    row_colors['Region'] = row_colors['Region'].map(lut)\n",
    "    row_colors.loc[row_colors['Meso/Single']=='meso', 'Region'] = 3\n",
    "\n",
    "    # lut = dict(zip(row_colors['Meso/Single'].unique(), \"rb\"*100))\n",
    "    # row_colors['Meso/Single'] = row_colors['Meso/Single'].map(lut)\n",
    "\n",
    "    im=sns.heatmap(row_colors[['Region']],\n",
    "                       cmap=['grey', 'darkgrey', 'orange'],\n",
    "                       ax=rax,\n",
    "                       yticklabels=0,\n",
    "                       xticklabels=0,\n",
    "    #                row_colors=row_colors\n",
    "                       cbar=False\n",
    "                      )\n",
    "\n",
    "    ## Part 2: projection matrix & color bar\n",
    "    meso_thres = thres_meso\n",
    "    single_thres = thres_single_log\n",
    "    single_max = 4\n",
    "    meso_max = single_max\n",
    "\n",
    "    # exp_list = []\n",
    "    for i, cgroup in enumerate(rlist[:]):\n",
    "        hsep = False\n",
    "        # mesoscale\n",
    "        ctag = cgroup+'_meso'\n",
    "#         cn = len(tp_dict[ctag])\n",
    "        cn = 1\n",
    "    #     exp_list = exp_list + tp_dict[ctag]\n",
    "        if cn>0:\n",
    "            ax = fig.add_subplot(grid[cy:(cy+cn),8:41])\n",
    "#             if not meso_colorbar:\n",
    "#                 cbar=True\n",
    "#                 bax = fig.add_subplot(grid[(int(len(res)/2)):(int(len(res)/2)+cbar_size),49:])\n",
    "#                 meso_colorbar = True\n",
    "#             else:\n",
    "#                 cbar=False\n",
    "            cbar = False\n",
    "            ax.set_facecolor('grey')\n",
    "            pdf_meso = pd.DataFrame(np.array(res.loc[tp_dict[ctag]].max(axis=0)).reshape(1,-1))\n",
    "            im=sns.heatmap(pdf_meso,\n",
    "                               cmap='viridis',\n",
    "                               mask=(pdf_meso<meso_thres),\n",
    "                               yticklabels=0,\n",
    "                               xticklabels=0,\n",
    "                               ax=ax,\n",
    "                           vmin=0,\n",
    "                           vmax=meso_max,\n",
    "                               cbar=cbar,\n",
    "#                            cbar_ax=bax\n",
    "                              )\n",
    "            if not hsep:\n",
    "                ax.hlines([0], *ax.get_xlim(), colors='k', lw=0.5)\n",
    "                hsep = True\n",
    "        cy = cy + cn\n",
    "\n",
    "        # single cell\n",
    "        ctag = cgroup+'_single'\n",
    "        cn = len(tp_dict[ctag])\n",
    "        if cn>0:\n",
    "            ax = fig.add_subplot(grid[cy:(cy+cn),8:41])\n",
    "            if not single_colorbar:\n",
    "                cbar=True\n",
    "                bax = fig.add_subplot(grid[(int(len(ct_list)*0.55)):(int(len(ct_list)*0.55)+cbar_size),48:])\n",
    "                single_colorbar = True\n",
    "            else:\n",
    "                cbar=False\n",
    "            ax.set_facecolor('grey')\n",
    "            if cgroup == rlist[-1]:\n",
    "                xticklabels = True\n",
    "            else:\n",
    "                xticklabels = False\n",
    "            im=sns.heatmap(res.loc[tp_dict[ctag]],\n",
    "                               cmap='viridis',\n",
    "                               mask=(res.loc[tp_dict[ctag]]<=single_thres),\n",
    "                               yticklabels=0,\n",
    "                               xticklabels=xticklabels,\n",
    "                               ax=ax,\n",
    "                           vmin=0,\n",
    "                           vmax=single_max,\n",
    "                               cbar=cbar,\n",
    "                           cbar_ax=bax\n",
    "                              )\n",
    "            if not hsep:\n",
    "                ax.hlines([0], *ax.get_xlim(), colors='k', lw=0.5)\n",
    "                hsep = True\n",
    "        cy = cy + cn    \n",
    "\n",
    "    print(len(clist))\n",
    "    ## Part 3: histogram\n",
    "    hax = fig.add_subplot(grid[:,41:47])\n",
    "    hdata = res[s_reg_list].copy()\n",
    "    hdata.loc[mlist] = hdata.loc[mlist]>meso_thres \n",
    "    hdata.loc[slist] = hdata.loc[slist]>single_thres \n",
    "    hdata = hdata.sum(axis=1)\n",
    "    ys = np.linspace(0.5, len(hdata)-0.5, len(hdata))\n",
    "    hax.barh(y=ys, width=hdata)\n",
    "    hax.set_ylim((len(hdata), 0))\n",
    "    hax.set_yticks([])\n",
    "    for i in rlist:\n",
    "        tp_list = combine_meta[combine_meta['CellType_full']==i].index.tolist()\n",
    "        tp_list = [j for j in tp_list if j in slist]\n",
    "        print(i)\n",
    "        print(hdata.loc[tp_list].max(), hdata.loc[tp_list].mean())\n",
    "    for axis in ['top','bottom','left','right']:\n",
    "        hax.spines[axis].set_linewidth(0.2)\n",
    "    hax.xaxis.set_ticks_position(\"top\")\n",
    "\n",
    "    fig.savefig('../Figure/%s_L2-5_IT_projection_matrix.pdf' % (group_name), bbox_inches='tight')\n",
    "    return hdata\n",
    "\n",
    "rlist = ['SSp-L2/3', 'SSp-L5_IT']\n",
    "group_name = 'SSp'\n",
    "primary_target = 'SSp-ipsi'\n",
    "thres_meso = 0.2\n",
    "\n",
    "n_targets_SSp = heatmap_by_groups(rlist, group_name, primary_target, thres_meso=thres_meso, figsize=(9,7))"
   ]
  },
  {
   "cell_type": "code",
   "execution_count": 26,
   "metadata": {},
   "outputs": [
    {
     "name": "stdout",
     "output_type": "stream",
     "text": [
      "# targets:\t40\n",
      "23\n",
      "SSs-L2/3\n",
      "10 5.363636363636363\n",
      "SSs-L5_IT\n",
      "19 12.0\n"
     ]
    },
    {
     "data": {
      "image/png": "[encoded data removed]",
      "text/plain": [
       "<Figure size 800x400 with 8 Axes>"
      ]
     },
     "metadata": {
      "needs_background": "light"
     },
     "output_type": "display_data"
    }
   ],
   "source": [
    "rlist = ['SSs-L2/3', 'SSs-L5_IT']\n",
    "group_name = 'SSs'\n",
    "primary_target = 'SSs-ipsi'\n",
    "thres_meso = 0.1\n",
    "\n",
    "n_targets_SSs = heatmap_by_groups(rlist, group_name, primary_target, thres_meso=thres_meso)"
   ]
  },
  {
   "cell_type": "code",
   "execution_count": 27,
   "metadata": {},
   "outputs": [
    {
     "name": "stdout",
     "output_type": "stream",
     "text": [
      "# targets:\t40\n",
      "45\n",
      "MOp-L2/3\n",
      "12 6.0\n",
      "MOs-L2/3\n",
      "11 7.0\n",
      "MO-L5_IT\n",
      "13 8.5\n"
     ]
    },
    {
     "data": {
      "image/png": "[encoded data removed]",
      "text/plain": [
       "<Figure size 800x1000 with 10 Axes>"
      ]
     },
     "metadata": {
      "needs_background": "light"
     },
     "output_type": "display_data"
    }
   ],
   "source": [
    "rlist = ['MOp-L2/3', 'MOs-L2/3', 'MO-L5_IT']\n",
    "group_name = 'MO'\n",
    "primary_target = 'MOp-ipsi'\n",
    "thres_meso = 0.1\n",
    "\n",
    "n_targets_MO = heatmap_by_groups(rlist, group_name, primary_target, thres_meso=thres_meso, figsize=(8,10))"
   ]
  },
  {
   "cell_type": "code",
   "execution_count": 28,
   "metadata": {},
   "outputs": [
    {
     "data": {
      "text/plain": [
       "'\\nQuantitative comparison of the difference between L2/3 IT and L5 IT cells, \\nincluding total number of targets, total axon length, axon length in ipsilateral or contralateral cortex, \\naxon length in ipsilateral or contralateral CP, etc. Do this for MOs/MOp, SSp and SSs separately.\\n'"
      ]
     },
     "execution_count": 28,
     "metadata": {},
     "output_type": "execute_result"
    }
   ],
   "source": [
    "'''\n",
    "Quantitative comparison of the difference between L2/3 IT and L5 IT cells, \n",
    "including total number of targets, total axon length, axon length in ipsilateral or contralateral cortex, \n",
    "axon length in ipsilateral or contralateral CP, etc. Do this for MOs/MOp, SSp and SSs separately.\n",
    "'''"
   ]
  },
  {
   "cell_type": "code",
   "execution_count": 29,
   "metadata": {},
   "outputs": [],
   "source": [
    "fdata = meta_single.copy()\n",
    "fdata['N_targets'] = 0\n",
    "fdata['Total_axon_length'] = 0\n",
    "fdata['Total_axon_length_ipsi'] = 0\n",
    "fdata['Total_axon_length_contra'] = 0\n",
    "fdata['Total_axon_length_CP_ipsi'] = 0\n",
    "fdata['Total_axon_length_CP_contra'] = 0\n",
    "fdata['Group_name'] = ''\n",
    "fdata['Layer'] = [i.split('-')[1] for i in fdata['CellType_full'].tolist()]"
   ]
  },
  {
   "cell_type": "code",
   "execution_count": 30,
   "metadata": {},
   "outputs": [],
   "source": [
    "rdict = {'SSp':['SSp-L2/3', 'SSp-L5_IT'],\n",
    "         'SSs':['SSs-L2/3', 'SSs-L5_IT'],\n",
    "         'MO':['MOp-L2/3', 'MOs-L2/3', 'MO-L5_IT'],\n",
    "        }\n",
    "for i in list(rdict.keys()):\n",
    "    fdata.loc[fdata['CellType_full'].isin(rdict[i]), 'Group_name'] = i"
   ]
  },
  {
   "cell_type": "code",
   "execution_count": 32,
   "metadata": {},
   "outputs": [],
   "source": [
    "for cdf in [n_targets_SSp, n_targets_SSs, n_targets_MO]:\n",
    "    tlist = [i for i in cdf.index if i in fdata.index]\n",
    "    fdata.loc[tlist, 'N_targets'] = cdf.loc[tlist].tolist()"
   ]
  },
  {
   "cell_type": "code",
   "execution_count": 35,
   "metadata": {},
   "outputs": [
    {
     "data": {
      "text/plain": [
       "MOp-L2/3    17\n",
       "MOs-L2/3    17\n",
       "SSp-L2/3    16\n",
       "SSs-L2/3    11\n",
       "Name: CellType_full, dtype: int64"
      ]
     },
     "execution_count": 35,
     "metadata": {},
     "output_type": "execute_result"
    }
   ],
   "source": [
    "tp = fdata[fdata['CreLine']=='Cux2'].copy()\n",
    "tp['CellType_full'].value_counts()"
   ]
  },
  {
   "cell_type": "code",
   "execution_count": 61,
   "metadata": {},
   "outputs": [
    {
     "data": {
      "text/plain": [
       "87.7281636731977"
      ]
     },
     "execution_count": 61,
     "metadata": {},
     "output_type": "execute_result"
    }
   ],
   "source": [
    "def get_segments(swc):\n",
    "    # lab = [i for i,name in enumerate(swc.index.tolist()) if swc.loc[name, \"parent\"]!=(-1)]\n",
    "    # child = swc[swc.parent != (-1)]\n",
    "    child = swc[swc.parent.isin(swc.index)]\n",
    "    parent = swc.loc[child.parent]\n",
    "    rho, theta, phi = nmt.cart2pol_3d(np.array(child[[\"x\", \"y\", \"z\"]]) - np.array(parent[[\"x\", \"y\", \"z\"]]))\n",
    "    res = pd.DataFrame({\"type\": child.type,\n",
    "                        \"rho\": rho,\n",
    "                        \"theta\": theta,\n",
    "                        \"phi\": phi,\n",
    "                        \"x\": (np.array(child.x) + np.array(parent.x)) / 2,\n",
    "                        \"y\": (np.array(child.y) + np.array(parent.y)) / 2,\n",
    "                        \"z\": (np.array(child.z) + np.array(parent.z)) / 2\n",
    "                        })\n",
    "    res.index = range(1, len(child)+1)\n",
    "    # soma\n",
    "    soma = swc[((swc.type==1) & (swc.parent==-1))]\n",
    "    if len(soma)>0:\n",
    "        soma_res = pd.DataFrame({\"type\": 1,\n",
    "                                 \"rho\": 1,\n",
    "                                 \"theta\": 0,\n",
    "                                 \"phi\": 0,\n",
    "                                 \"x\": soma.x.iloc[0],\n",
    "                                 \"y\": soma.y.iloc[0],\n",
    "                                 \"z\": soma.z.iloc[0]},\n",
    "                                index=[0])\n",
    "        res = soma_res.append(res)\n",
    "    return res\n",
    "\n",
    "midline = nmt.annotation.micron_size['z']/2\n",
    "def get_axon_length(cname, side=None):\n",
    "    swc = ns.neurons[cname].swc.copy()\n",
    "    swc = swc[swc['type']==2]\n",
    "    if not side is None:\n",
    "        if side == 'ipsilateral':\n",
    "            swc = swc[swc['z']<midline]\n",
    "        if side == 'contralateral':\n",
    "            swc = swc[swc['z']>midline]\n",
    "    res = get_segments(swc)['rho'].sum()/1000\n",
    "    return res\n",
    "\n",
    "get_axon_length(tlist[0], side='ipsilateral')"
   ]
  },
  {
   "cell_type": "code",
   "execution_count": 62,
   "metadata": {},
   "outputs": [],
   "source": [
    "ctx_names = [nmt.bs.id_to_name(i) for i in nmt.bs.get_all_child_id('CTX') if i in nmt.bs.selected_regions]\n",
    "ctx_ipsi = ['ipsi_'+i for i in ctx_names]\n",
    "ctx_contra = ['contra_'+i for i in ctx_names]"
   ]
  },
  {
   "cell_type": "code",
   "execution_count": 63,
   "metadata": {},
   "outputs": [],
   "source": [
    "fdata['Total_axon_length'] = 0\n",
    "fdata['Total_axon_length_ipsi'] = 0\n",
    "fdata['Total_axon_length_contra'] = 0\n",
    "fdata['Total_axon_length_CP_ipsi'] = 0\n",
    "fdata['Total_axon_length_CP_contra'] = 0\n",
    "\n",
    "for cname in fdata.index:\n",
    "    fdata.loc[cname, 'Total_axon_length'] = get_axon_length(cname)\n",
    "    fdata.loc[cname, 'Total_axon_length_ipsi'] = ns.features['projection_features'].raw_data.loc[cname, ctx_ipsi].sum()/1000\n",
    "    fdata.loc[cname, 'Total_axon_length_contra'] = ns.features['projection_features'].raw_data.loc[cname, ctx_contra].sum()/1000\n",
    "    fdata.loc[cname, 'Total_axon_length_CP_ipsi'] = ns.features['projection_features'].raw_data.loc[cname, 'ipsi_CP']/1000\n",
    "    fdata.loc[cname, 'Total_axon_length_CP_contra'] = ns.features['projection_features'].raw_data.loc[cname, 'contra_CP']/1000\n",
    "    "
   ]
  },
  {
   "cell_type": "code",
   "execution_count": 68,
   "metadata": {},
   "outputs": [],
   "source": [
    "order_list = ['SSp-L2/3', 'SSp-L5_IT', 'SSs-L2/3', 'SSs-L5_IT', 'MOp-L2/3', 'MOs-L2/3', 'MO-L5_IT']"
   ]
  },
  {
   "cell_type": "code",
   "execution_count": 70,
   "metadata": {},
   "outputs": [],
   "source": [
    "from scipy.stats import mannwhitneyu\n",
    "measure = 'N_targets'\n",
    "_, pv = mannwhitneyu(fdata[fdata['CellType_full']=='SSp-L2/3'][measure],\n",
    "             fdata[fdata['CellType_full']=='SSp-L5_IT'][measure]\n",
    "            )"
   ]
  },
  {
   "cell_type": "code",
   "execution_count": 78,
   "metadata": {},
   "outputs": [
    {
     "name": "stdout",
     "output_type": "stream",
     "text": [
      "N_targets\n",
      "SSp-L2/3 : SSp-L5_IT\t3.53e-06\n",
      "SSs-L2/3 : SSs-L5_IT\t3.26e-04\n",
      "MOp-L2/3 : MOs-L2/3\t1.08e-01\n",
      "MOp-L2/3 : MO-L5_IT\t1.73e-02\n",
      "MOs-L2/3 : MO-L5_IT\t1.51e-01\n",
      "Total_axon_length\n",
      "SSp-L2/3 : SSp-L5_IT\t5.23e-06\n",
      "SSs-L2/3 : SSs-L5_IT\t1.33e-02\n",
      "MOp-L2/3 : MOs-L2/3\t1.01e-01\n",
      "MOp-L2/3 : MO-L5_IT\t6.13e-02\n",
      "MOs-L2/3 : MO-L5_IT\t2.16e-01\n",
      "Total_axon_length_ipsi\n",
      "SSp-L2/3 : SSp-L5_IT\t1.52e-05\n",
      "SSs-L2/3 : SSs-L5_IT\t4.58e-01\n",
      "MOp-L2/3 : MOs-L2/3\t1.43e-01\n",
      "MOp-L2/3 : MO-L5_IT\t3.31e-01\n",
      "MOs-L2/3 : MO-L5_IT\t4.88e-01\n",
      "Total_axon_length_contra\n",
      "SSp-L2/3 : SSp-L5_IT\t2.52e-04\n",
      "SSs-L2/3 : SSs-L5_IT\t5.07e-03\n",
      "MOp-L2/3 : MOs-L2/3\t1.94e-01\n",
      "MOp-L2/3 : MO-L5_IT\t1.06e-02\n",
      "MOs-L2/3 : MO-L5_IT\t6.83e-02\n",
      "Total_axon_length_CP_ipsi\n",
      "SSp-L2/3 : SSp-L5_IT\t7.77e-07\n",
      "SSs-L2/3 : SSs-L5_IT\t1.58e-02\n",
      "MOp-L2/3 : MOs-L2/3\t5.00e-01\n",
      "MOp-L2/3 : MO-L5_IT\t1.05e-02\n",
      "MOs-L2/3 : MO-L5_IT\t1.00e-02\n",
      "Total_axon_length_CP_contra\n",
      "SSp-L2/3 : SSp-L5_IT\t4.74e-03\n",
      "SSs-L2/3 : SSs-L5_IT\t7.69e-02\n",
      "MOp-L2/3 : MOs-L2/3\t1.62e-01\n",
      "MOp-L2/3 : MO-L5_IT\t3.07e-02\n",
      "MOs-L2/3 : MO-L5_IT\t1.47e-01\n"
     ]
    }
   ],
   "source": [
    "ct_pairs = [['SSp-L2/3', 'SSp-L5_IT'],\n",
    "            ['SSs-L2/3', 'SSs-L5_IT'], \n",
    "            ['MOp-L2/3', 'MOs-L2/3'],\n",
    "            ['MOp-L2/3', 'MO-L5_IT'],\n",
    "            ['MOs-L2/3', 'MO-L5_IT'],\n",
    "           ]\n",
    "def get_pv(measure):\n",
    "    print(measure)\n",
    "    for cpair in ct_pairs:\n",
    "        ct1 = cpair[0]\n",
    "        ct2 = cpair[1]\n",
    "        _, pv = mannwhitneyu(fdata[fdata['CellType_full']==ct1][measure],\n",
    "                             fdata[fdata['CellType_full']==ct2][measure]\n",
    "                            )\n",
    "        print('%s : %s\\t%.2e' % (ct1, ct2, pv))\n",
    "    return\n",
    "\n",
    "measure_list = ['N_targets', \n",
    "               'Total_axon_length', \n",
    "               'Total_axon_length_ipsi',\n",
    "               'Total_axon_length_contra', \n",
    "               'Total_axon_length_CP_ipsi',\n",
    "               'Total_axon_length_CP_contra']\n",
    "for measure in measure_list:\n",
    "    get_pv(measure)"
   ]
  },
  {
   "cell_type": "code",
   "execution_count": 69,
   "metadata": {},
   "outputs": [],
   "source": [
    "hue_dict = {'SSp-L2/3':'C0', \n",
    "            'SSp-L5_IT':'C1', \n",
    "            'SSs-L2/3':'C0', \n",
    "            'SSs-L5_IT':'C1', \n",
    "            'MOp-L2/3':'C0', \n",
    "            'MOs-L2/3':'C2', \n",
    "            'MO-L5_IT':'C1'}\n",
    "\n",
    "group_hue = {'SSp':['C0', 'C1'],\n",
    "             'SSs':['C0', 'C1'],\n",
    "             'MO':['C0', 'C2', 'C1']\n",
    "            }"
   ]
  },
  {
   "cell_type": "code",
   "execution_count": 48,
   "metadata": {},
   "outputs": [
    {
     "data": {
      "image/png": "[encoded data removed]",
      "text/plain": [
       "<Figure size 360x288 with 3 Axes>"
      ]
     },
     "metadata": {
      "needs_background": "light"
     },
     "output_type": "display_data"
    }
   ],
   "source": [
    "fig,ax = plt.subplots(1,3,figsize=(5,4), sharey=False)\n",
    "plt.subplots_adjust(wspace=0)\n",
    "ax = ax.reshape(-1,)\n",
    "measure = 'N_targets'\n",
    "for i,cgroup in enumerate(['SSp', 'SSs', 'MO']):\n",
    "    pdata = fdata[fdata['Group_name']==cgroup].copy()\n",
    "    cax = ax[i]\n",
    "    \n",
    "    sns.boxplot(x='CellType_full', \n",
    "                y=measure, \n",
    "#                 hue='CellType_full',\n",
    "                palette=group_hue[cgroup],\n",
    "                order=rdict[cgroup], \n",
    "                data = pdata, \n",
    "                ax=cax, \n",
    "                linewidth=0.5,\n",
    "                showfliers=False)\n",
    "    cax.set_xlabel('')\n",
    "    if i>0:\n",
    "        cax.set_ylabel('')\n",
    "        cax.set_yticks([])\n",
    "    else:\n",
    "        cax.set_ylabel('Number of Targets', fontdict={'fontsize':14})\n",
    "    cax.set_ylim(0,21)\n",
    "    cax.set_xticklabels(rdict[cgroup], fontdict={'rotation':45, 'fontsize':11})\n",
    "    \n",
    "fig.savefig('../Figure/IT_comparison_N_targets.pdf', bbox_inches='tight')"
   ]
  },
  {
   "cell_type": "code",
   "execution_count": 73,
   "metadata": {},
   "outputs": [
    {
     "data": {
      "image/png": "[encoded data removed]",
      "text/plain": [
       "<Figure size 360x288 with 3 Axes>"
      ]
     },
     "metadata": {
      "needs_background": "light"
     },
     "output_type": "display_data"
    }
   ],
   "source": [
    "fig,ax = plt.subplots(1,3,figsize=(5,4), sharey=False)\n",
    "plt.subplots_adjust(wspace=0)\n",
    "ax = ax.reshape(-1,)\n",
    "for i,cgroup in enumerate(['SSp', 'SSs', 'MO']):\n",
    "    pdata = fdata[fdata['Group_name']==cgroup].copy()\n",
    "    cax = ax[i]\n",
    "    sns.boxplot(x='CellType_full', \n",
    "                y='Total_axon_length', \n",
    "#                 hue='Layer',\n",
    "                palette=group_hue[cgroup],\n",
    "                order=rdict[cgroup], \n",
    "                data = pdata, \n",
    "                ax=cax, \n",
    "                linewidth=0.5,\n",
    "                showfliers=False)\n",
    "    cax.set_xlabel('')\n",
    "    if i>0:\n",
    "        cax.set_ylabel('')\n",
    "        cax.set_yticks([])\n",
    "    else:\n",
    "        cax.set_ylabel('Total axon length (mm)', fontdict={'fontsize':14})\n",
    "    cax.set_ylim(20,220)\n",
    "    cax.set_xticklabels(rdict[cgroup], fontdict={'rotation':45, 'fontsize':11})\n",
    "    \n",
    "fig.savefig('../Figure/IT_comparison_total_length.pdf', bbox_inches='tight')"
   ]
  },
  {
   "cell_type": "code",
   "execution_count": 74,
   "metadata": {},
   "outputs": [
    {
     "data": {
      "image/png": "[encoded data removed]",
      "text/plain": [
       "<Figure size 360x288 with 3 Axes>"
      ]
     },
     "metadata": {
      "needs_background": "light"
     },
     "output_type": "display_data"
    }
   ],
   "source": [
    "fig,ax = plt.subplots(1,3,figsize=(5,4), sharey=False)\n",
    "plt.subplots_adjust(wspace=0)\n",
    "ax = ax.reshape(-1,)\n",
    "for i,cgroup in enumerate(['SSp', 'SSs', 'MO']):\n",
    "    pdata = fdata[fdata['Group_name']==cgroup].copy()\n",
    "    cax = ax[i]\n",
    "    sns.boxplot(x='CellType_full', \n",
    "                y='Total_axon_length_ipsi', \n",
    "#                 hue='Layer',\n",
    "                order=rdict[cgroup], \n",
    "                palette=group_hue[cgroup],\n",
    "                data = pdata, \n",
    "                ax=cax, \n",
    "                linewidth=0.5,\n",
    "                showfliers=False)\n",
    "    cax.set_xlabel('')\n",
    "    if i>0:\n",
    "        cax.set_ylabel('')\n",
    "        cax.set_yticks([])\n",
    "    else:\n",
    "        cax.set_ylabel('CTX-ipsi axon length (mm)', fontdict={'fontsize':14})\n",
    "    cax.set_ylim(20,120)\n",
    "    cax.set_xticklabels(rdict[cgroup], fontdict={'rotation':45, 'fontsize':11})\n",
    "    \n",
    "fig.savefig('../Figure/IT_comparison_total_length_ipsi.pdf', bbox_inches='tight')"
   ]
  },
  {
   "cell_type": "code",
   "execution_count": 75,
   "metadata": {},
   "outputs": [
    {
     "data": {
      "image/png": "[encoded data removed]",
      "text/plain": [
       "<Figure size 360x288 with 3 Axes>"
      ]
     },
     "metadata": {
      "needs_background": "light"
     },
     "output_type": "display_data"
    }
   ],
   "source": [
    "fig,ax = plt.subplots(1,3,figsize=(5,4), sharey=False)\n",
    "plt.subplots_adjust(wspace=0)\n",
    "ax = ax.reshape(-1,)\n",
    "for i,cgroup in enumerate(['SSp', 'SSs', 'MO']):\n",
    "    pdata = fdata[fdata['Group_name']==cgroup].copy()\n",
    "    cax = ax[i]\n",
    "    sns.boxplot(x='CellType_full', \n",
    "                y='Total_axon_length_contra', \n",
    "#                 hue='Layer',\n",
    "                order=rdict[cgroup], \n",
    "                palette=group_hue[cgroup],\n",
    "                data = pdata, \n",
    "                ax=cax, \n",
    "                linewidth=0.5,\n",
    "                showfliers=False)\n",
    "    cax.set_xlabel('')\n",
    "    if i>0:\n",
    "        cax.set_ylabel('')\n",
    "        cax.set_yticks([])\n",
    "    else:\n",
    "        cax.set_ylabel('CTX-contra axon length (mm)', fontdict={'fontsize':14})\n",
    "    cax.set_ylim(-10,50)\n",
    "    cax.set_xticklabels(rdict[cgroup], fontdict={'rotation':45, 'fontsize':11})\n",
    "    \n",
    "fig.savefig('../Figure/IT_comparison_total_length_contra.pdf', bbox_inches='tight')"
   ]
  },
  {
   "cell_type": "code",
   "execution_count": 76,
   "metadata": {},
   "outputs": [
    {
     "data": {
      "image/png": "[encoded data removed]",
      "text/plain": [
       "<Figure size 360x288 with 3 Axes>"
      ]
     },
     "metadata": {
      "needs_background": "light"
     },
     "output_type": "display_data"
    }
   ],
   "source": [
    "fig,ax = plt.subplots(1,3,figsize=(5,4), sharey=False)\n",
    "plt.subplots_adjust(wspace=0)\n",
    "ax = ax.reshape(-1,)\n",
    "for i,cgroup in enumerate(['SSp', 'SSs', 'MO']):\n",
    "    pdata = fdata[fdata['Group_name']==cgroup].copy()\n",
    "    cax = ax[i]\n",
    "    sns.boxplot(x='CellType_full', \n",
    "                y='Total_axon_length_CP_ipsi', \n",
    "#                 hue='Layer',\n",
    "                order=rdict[cgroup], \n",
    "                palette=group_hue[cgroup],\n",
    "                data = pdata, \n",
    "                ax=cax, \n",
    "                linewidth=0.5,\n",
    "                showfliers=False)\n",
    "    cax.set_xlabel('')\n",
    "    if i>0:\n",
    "        cax.set_ylabel('')\n",
    "        cax.set_yticks([])\n",
    "    else:\n",
    "        cax.set_ylabel('CP-ipsi axon length (mm)', fontdict={'fontsize':14})\n",
    "    cax.set_ylim(-10,60)\n",
    "    cax.set_xticklabels(rdict[cgroup], fontdict={'rotation':45, 'fontsize':11})\n",
    "    \n",
    "fig.savefig('../Figure/IT_comparison_total_length_ipsi_CP.pdf', bbox_inches='tight')"
   ]
  },
  {
   "cell_type": "code",
   "execution_count": 77,
   "metadata": {},
   "outputs": [
    {
     "data": {
      "image/png": "[encoded data removed]",
      "text/plain": [
       "<Figure size 360x288 with 3 Axes>"
      ]
     },
     "metadata": {
      "needs_background": "light"
     },
     "output_type": "display_data"
    }
   ],
   "source": [
    "fig,ax = plt.subplots(1,3,figsize=(5,4), sharey=False)\n",
    "plt.subplots_adjust(wspace=0)\n",
    "ax = ax.reshape(-1,)\n",
    "for i,cgroup in enumerate(['SSp', 'SSs', 'MO']):\n",
    "    pdata = fdata[fdata['Group_name']==cgroup].copy()\n",
    "    cax = ax[i]\n",
    "    sns.boxplot(x='CellType_full', \n",
    "                y='Total_axon_length_CP_contra', \n",
    "#                 hue='Layer',\n",
    "                order=rdict[cgroup], \n",
    "                palette=group_hue[cgroup],\n",
    "                data = pdata, \n",
    "                ax=cax, \n",
    "                linewidth=0.5,\n",
    "                showfliers=False)\n",
    "    cax.set_xlabel('')\n",
    "    if i>0:\n",
    "        cax.set_ylabel('')\n",
    "        cax.set_yticks([])\n",
    "    else:\n",
    "        cax.set_ylabel('CP-contra axon length (mm)', fontdict={'fontsize':14})\n",
    "    cax.set_ylim(-0.4,3.5)\n",
    "    cax.set_xticklabels(rdict[cgroup], fontdict={'rotation':45, 'fontsize':11})\n",
    "    \n",
    "fig.savefig('../Figure/IT_comparison_total_length_contra_CP.pdf', bbox_inches='tight')"
   ]
  },
  {
   "cell_type": "markdown",
   "metadata": {},
   "source": [
    "## Count number of targets for Fig 2a"
   ]
  },
  {
   "cell_type": "code",
   "execution_count": 38,
   "metadata": {},
   "outputs": [
    {
     "data": {
      "text/plain": [
       "['MO-L5_IT',\n",
       " 'MOp-L2/3',\n",
       " 'MOs-L2/3',\n",
       " 'SSp-L2/3',\n",
       " 'SSp-L5_IT',\n",
       " 'SSs-L2/3',\n",
       " 'SSs-L5_IT']"
      ]
     },
     "execution_count": 38,
     "metadata": {},
     "output_type": "execute_result"
    }
   ],
   "source": [
    "sorted(meta_single['CellType_full'].unique().tolist())"
   ]
  },
  {
   "cell_type": "code",
   "execution_count": null,
   "metadata": {},
   "outputs": [],
   "source": [
    "rlist = ['SSp-L2/3', 'SSp-L2/3', 'SSp-L5_IT']\n",
    "group_name = 'SSp'\n",
    "primary_target = 'SSp-ipsi'\n",
    "thres_meso = 0.2\n",
    "\n",
    "n_targets_SSp = heatmap_by_groups(rlist, group_name, primary_target, thres_meso=thres_meso, figsize=(9,7))"
   ]
  }
 ],
 "metadata": {
  "kernelspec": {
   "display_name": "Python 3",
   "language": "python",
   "name": "python3"
  },
  "language_info": {
   "codemirror_mode": {
    "name": "ipython",
    "version": 3
   },
   "file_extension": ".py",
   "mimetype": "text/x-python",
   "name": "python",
   "nbconvert_exporter": "python",
   "pygments_lexer": "ipython3",
   "version": "3.8.3"
  }
 },
 "nbformat": 4,
 "nbformat_minor": 4
}
