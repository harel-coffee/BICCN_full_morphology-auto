{
 "cells": [
  {
   "cell_type": "code",
   "execution_count": 1,
   "metadata": {},
   "outputs": [
    {
     "name": "stdout",
     "output_type": "stream",
     "text": [
      "/Users/pengxie/Documents/Research/python/neuro_morhpo_toolbox/neuro_morpho_toolbox/\n",
      "Loading CCF Atlas data...\n",
      "Loading time: 0.66\n",
      "Loading CCF brain structure data...\n",
      "Loading time: 0.01\n",
      "Loading flat_map ...\n",
      "Loading time: 3.18\n"
     ]
    }
   ],
   "source": [
    "import numpy as np\n",
    "import pandas as pd\n",
    "import os\n",
    "from shutil import copyfile\n",
    "import shutil\n",
    "import matplotlib.pyplot as plt\n",
    "import seaborn as sns\n",
    "import pickle\n",
    "\n",
    "import neuro_morpho_toolbox as nmt\n",
    "%matplotlib inline\n",
    "\n",
    "ccf_max = nmt.annotation.micron_size\n",
    "\n",
    "default_dir = '/Users/pengxie/Documents/Research/Thalamus_fullMorpho/ipython/'\n"
   ]
  },
  {
   "cell_type": "code",
   "execution_count": 8,
   "metadata": {},
   "outputs": [
    {
     "name": "stdout",
     "output_type": "stream",
     "text": [
      "Loading...\n",
      "100 loaded: 3.3s\n",
      "200 loaded: 2.8s\n",
      "300 loaded: 4.9s\n",
      "400 loaded: 3.4s\n",
      "500 loaded: 3.0s\n",
      "600 loaded: 2.8s\n",
      "700 loaded: 2.6s\n",
      "800 loaded: 2.9s\n",
      "900 loaded: 2.5s\n",
      "1000 loaded: 2.9s\n",
      "1100 loaded: 2.5s\n",
      "1200 loaded: 2.6s\n",
      "1300 loaded: 2.8s\n",
      "1400 loaded: 4.7s\n",
      "1500 loaded: 3.6s\n",
      "1600 loaded: 3.0s\n",
      "1700 loaded: 4.4s\n",
      "Finding soma locations...\n",
      "Getting projection features...\n",
      "Number of input neurons: 1708\n",
      "Number of input features: 632\n",
      "Getting metadata...\n"
     ]
    }
   ],
   "source": [
    "ns = nmt.neuron_set('/Users/pengxie/Documents/Research/Thalamus_fullMorpho/Data/swc/Mapped_Sep2020/1_flip_s25/', scale=25)\n"
   ]
  },
  {
   "cell_type": "code",
   "execution_count": 9,
   "metadata": {},
   "outputs": [],
   "source": [
    "[celltype] = pickle.load(open('./metadata.pickle', 'rb'))"
   ]
  },
  {
   "cell_type": "code",
   "execution_count": 10,
   "metadata": {},
   "outputs": [],
   "source": [
    "ilist = [i for i in ns.metadata.index.tolist() if i in celltype.index.tolist()]\n",
    "ns.metadata.loc[ilist, 'CellType'] = celltype.loc[ilist, 'region']\n",
    "ns.metadata.loc[ilist, 'Layer'] = celltype.loc[ilist, 'layer']\n",
    "ns.metadata.loc[ilist, 'Brain'] = celltype.loc[ilist, 'brain']\n",
    "ns.metadata.loc[ilist, 'CellType_Rough'] = celltype.loc[ilist, 'rough_region']\n",
    "ns.metadata.loc[ilist, 'CreLine'] = celltype.loc[ilist, 'cre-line']\n",
    "ns.metadata.loc[ilist, 'Yun_celltype'] = celltype.loc[ilist, 'Yun_celltype']\n"
   ]
  },
  {
   "cell_type": "code",
   "execution_count": 11,
   "metadata": {},
   "outputs": [],
   "source": [
    "pickle.dump([ns], open(default_dir + 'neuron_set_1708cells_v2.pickle', 'wb'))"
   ]
  },
  {
   "cell_type": "code",
   "execution_count": null,
   "metadata": {},
   "outputs": [],
   "source": []
  }
 ],
 "metadata": {
  "kernelspec": {
   "display_name": "Python 3",
   "language": "python",
   "name": "python3"
  },
  "language_info": {
   "codemirror_mode": {
    "name": "ipython",
    "version": 3
   },
   "file_extension": ".py",
   "mimetype": "text/x-python",
   "name": "python",
   "nbconvert_exporter": "python",
   "pygments_lexer": "ipython3",
   "version": "3.8.3"
  }
 },
 "nbformat": 4,
 "nbformat_minor": 4
}
