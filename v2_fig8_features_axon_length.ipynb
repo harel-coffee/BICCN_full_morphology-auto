{
 "cells": [
  {
   "cell_type": "code",
   "execution_count": 1,
   "metadata": {},
   "outputs": [
    {
     "name": "stdout",
     "output_type": "stream",
     "text": [
      "/Users/pengxie/Documents/Research/python/neuro_morhpo_toolbox/neuro_morpho_toolbox/\n",
      "Loading CCF Atlas data...\n",
      "Loading time: 0.52\n",
      "Loading CCF brain structure data...\n",
      "Loading time: 0.00\n",
      "Loading flat_map ...\n",
      "Loading time: 1.56\n"
     ]
    }
   ],
   "source": [
    "import numpy as np\n",
    "import pandas as pd\n",
    "import matplotlib\n",
    "import matplotlib.pyplot as plt\n",
    "import os\n",
    "import re\n",
    "import pickle\n",
    "from timeit import default_timer as timer\n",
    "import sklearn\n",
    "from sklearn.preprocessing import scale\n",
    "from sklearn.manifold import Isomap, TSNE\n",
    "from sklearn.metrics import silhouette_samples, silhouette_score\n",
    "import scipy\n",
    "import scipy.cluster.hierarchy\n",
    "from scipy.cluster.hierarchy import linkage, dendrogram, fcluster\n",
    "import umap\n",
    "import seaborn as sns\n",
    "import matplotlib.cm as cm\n",
    "import random\n",
    "\n",
    "from matplotlib.backends.backend_pdf import PdfPages\n",
    "from scipy.stats import mannwhitneyu\n",
    "\n",
    "# from pysankey import sankey\n",
    "\n",
    "from sklearn.cluster import AgglomerativeClustering, KMeans, DBSCAN, SpectralClustering, Birch\n",
    "from sklearn.neighbors import NearestNeighbors\n",
    "from sklearn.feature_selection import mutual_info_classif\n",
    "from sklearn import metrics\n",
    "import igraph\n",
    "from math import ceil\n",
    "from timeit import default_timer as timer\n",
    "import subprocess\n",
    "from pathlib import Path\n",
    "from numpy import linalg as LA\n",
    "\n",
    "import neuro_morpho_toolbox as nmt\n",
    "import SimpleITK as sitk\n",
    "\n",
    "from ipywidgets import interactive\n",
    "import ipywidgets as widgets\n",
    "\n",
    "# import plotly.plotly as py\n",
    "# import plotly.offline as po\n",
    "# import plotly.graph_objs as go\n",
    "\n",
    "# po.init_notebook_mode(connected=True)\n",
    "\n",
    "import colorlover as cl\n",
    "from IPython.display import HTML\n",
    "\n",
    "bs_child_to_parent = {}\n",
    "\n",
    "for pid in nmt.bs.selected_regions:\n",
    "    pname = nmt.bs.level.loc[pid, \"Abbreviation\"]\n",
    "    cname = [nmt.bs.level.loc[i, \"Abbreviation\"] for i in nmt.bs.get_all_child_id(pid)]\n",
    "    for i in cname:\n",
    "        bs_child_to_parent[i] = pname\n",
    "bs_child_to_parent[\"unknown\"] = \"unknown\""
   ]
  },
  {
   "cell_type": "code",
   "execution_count": 49,
   "metadata": {},
   "outputs": [
    {
     "data": {
      "text/plain": [
       "ipsi_VAL      6.446557\n",
       "ipsi_PCN      5.327167\n",
       "ipsi_CL       2.270241\n",
       "ipsi_VM       2.256304\n",
       "ipsi_MD       1.180193\n",
       "ipsi_SMT      0.849208\n",
       "contra_CM     0.517436\n",
       "contra_PCN    0.473733\n",
       "ipsi_RT       0.442846\n",
       "contra_SMT    0.429020\n",
       "Name: 18869_00024, dtype: float64"
      ]
     },
     "execution_count": 49,
     "metadata": {},
     "output_type": "execute_result"
    }
   ],
   "source": [
    "'18869_00024'\n",
    "ns.features['projection_features'].raw_data.loc['18869_00024'].sort_values(ascending=False).head(10)/1000"
   ]
  },
  {
   "cell_type": "code",
   "execution_count": 2,
   "metadata": {},
   "outputs": [],
   "source": [
    "[ns] = pickle.load(open('./neuron_set_1741cells.pickle', 'rb'))"
   ]
  },
  {
   "cell_type": "code",
   "execution_count": 3,
   "metadata": {},
   "outputs": [
    {
     "data": {
      "text/plain": [
       "CLA      34\n",
       "AId      16\n",
       "SSs      11\n",
       "AUD       6\n",
       "TEa       6\n",
       "GU        5\n",
       "VIS       5\n",
       "SSp       5\n",
       "MOp       4\n",
       "ECT       3\n",
       "VISC      2\n",
       "MOs       1\n",
       "VISrl     1\n",
       "ORBl      1\n",
       "Name: My_soma_region, dtype: int64"
      ]
     },
     "execution_count": 3,
     "metadata": {},
     "output_type": "execute_result"
    }
   ],
   "source": [
    "df = pd.read_csv('/Users/pengxie/Documents/Research/CLA/data/CCF/CellTypes_platform.csv', header=0, index_col=0)\n",
    "clist = df.index.tolist()\n",
    "df['My_soma_region'].value_counts()"
   ]
  },
  {
   "cell_type": "code",
   "execution_count": 4,
   "metadata": {},
   "outputs": [
    {
     "data": {
      "text/html": [
       "<div>\n",
       "<style scoped>\n",
       "    .dataframe tbody tr th:only-of-type {\n",
       "        vertical-align: middle;\n",
       "    }\n",
       "\n",
       "    .dataframe tbody tr th {\n",
       "        vertical-align: top;\n",
       "    }\n",
       "\n",
       "    .dataframe thead th {\n",
       "        text-align: right;\n",
       "    }\n",
       "</style>\n",
       "<table border=\"1\" class=\"dataframe\">\n",
       "  <thead>\n",
       "    <tr style=\"text-align: right;\">\n",
       "      <th></th>\n",
       "      <th>Brain_name</th>\n",
       "      <th>Cell_name</th>\n",
       "      <th>Cell_type</th>\n",
       "      <th>Sub_type</th>\n",
       "      <th>Soma_region</th>\n",
       "    </tr>\n",
       "  </thead>\n",
       "  <tbody>\n",
       "    <tr>\n",
       "      <th>17109_2401_x9695_y9693</th>\n",
       "      <td>17109</td>\n",
       "      <td>17109_2401_x9695_y9693</td>\n",
       "      <td>CLA</td>\n",
       "      <td>CLA_I-bi</td>\n",
       "      <td>CLA</td>\n",
       "    </tr>\n",
       "    <tr>\n",
       "      <th>17109_2601_x10213_y8783</th>\n",
       "      <td>17109</td>\n",
       "      <td>17109_2601_x10213_y8783</td>\n",
       "      <td>CLA</td>\n",
       "      <td>CLA_I-bi</td>\n",
       "      <td>CLA</td>\n",
       "    </tr>\n",
       "    <tr>\n",
       "      <th>17109_3101_x10824_y7188</th>\n",
       "      <td>17109</td>\n",
       "      <td>17109_3101_x10824_y7188</td>\n",
       "      <td>CLA</td>\n",
       "      <td>CLA_I-bi</td>\n",
       "      <td>CLA</td>\n",
       "    </tr>\n",
       "    <tr>\n",
       "      <th>17109_1701_x8048_y22277</th>\n",
       "      <td>17109</td>\n",
       "      <td>17109_1701_x8048_y22277</td>\n",
       "      <td>pc</td>\n",
       "      <td>pc_bi</td>\n",
       "      <td>AId</td>\n",
       "    </tr>\n",
       "    <tr>\n",
       "      <th>17109_1801_x6698_y12550</th>\n",
       "      <td>17109</td>\n",
       "      <td>17109_1801_x6698_y12550</td>\n",
       "      <td>pc</td>\n",
       "      <td>pc_bi</td>\n",
       "      <td>AId</td>\n",
       "    </tr>\n",
       "  </tbody>\n",
       "</table>\n",
       "</div>"
      ],
      "text/plain": [
       "                         Brain_name                Cell_name Cell_type  \\\n",
       "17109_2401_x9695_y9693        17109   17109_2401_x9695_y9693       CLA   \n",
       "17109_2601_x10213_y8783       17109  17109_2601_x10213_y8783       CLA   \n",
       "17109_3101_x10824_y7188       17109  17109_3101_x10824_y7188       CLA   \n",
       "17109_1701_x8048_y22277       17109  17109_1701_x8048_y22277        pc   \n",
       "17109_1801_x6698_y12550       17109  17109_1801_x6698_y12550        pc   \n",
       "\n",
       "                         Sub_type Soma_region  \n",
       "17109_2401_x9695_y9693   CLA_I-bi         CLA  \n",
       "17109_2601_x10213_y8783  CLA_I-bi         CLA  \n",
       "17109_3101_x10824_y7188  CLA_I-bi         CLA  \n",
       "17109_1701_x8048_y22277     pc_bi         AId  \n",
       "17109_1801_x6698_y12550     pc_bi         AId  "
      ]
     },
     "execution_count": 4,
     "metadata": {},
     "output_type": "execute_result"
    }
   ],
   "source": [
    "celltype = pd.DataFrame({'Brain_name':df['Brain_id'].tolist(),\n",
    "                         'Cell_name':df.index.tolist(),\n",
    "                         'Cell_type':[i.split('_')[0] for i in df['Cell_type'].tolist()],\n",
    "                         'Sub_type':df['Cell_type'].tolist(),\n",
    "                         'Soma_region':df['My_soma_region'].tolist()\n",
    "                        }, index=clist)\n",
    "celltype.head()"
   ]
  },
  {
   "cell_type": "code",
   "execution_count": 5,
   "metadata": {},
   "outputs": [
    {
     "data": {
      "text/plain": [
       "Ipsilateral    63\n",
       "Bilateral      37\n",
       "Name: Bilateral, dtype: int64"
      ]
     },
     "execution_count": 5,
     "metadata": {},
     "output_type": "execute_result"
    }
   ],
   "source": [
    "metadata = celltype.copy()\n",
    "\n",
    "metadata.rename(columns={'Cell_type':'Celltype',\n",
    "                         'Sub_type':'Subtype'\n",
    "                        }, inplace=True)\n",
    "metadata[\"Bilateral\"] = 'unassigned'\n",
    "for i in metadata.index.tolist():\n",
    "    if metadata.loc[i, 'Subtype'].endswith('ipsi'):\n",
    "        metadata.loc[i, 'Bilateral'] = 'Ipsilateral'\n",
    "    elif metadata.loc[i, 'Subtype'].endswith('bi'):\n",
    "        metadata.loc[i, 'Bilateral'] = 'Bilateral'\n",
    "\n",
    "metadata['Bilateral'].value_counts()"
   ]
  },
  {
   "cell_type": "code",
   "execution_count": 6,
   "metadata": {},
   "outputs": [
    {
     "name": "stdout",
     "output_type": "stream",
     "text": [
      "Number of cells from CLA project : 100\n"
     ]
    }
   ],
   "source": [
    "# Unique celltypes and colors\n",
    "u_subtypes = sorted(list(set(metadata.Subtype)))\n",
    "celltypes_col = dict(zip(u_subtypes, [\"C\"+str(i) for i in range(len(u_subtypes))]))\n",
    "\n",
    "cla_list = metadata.index.tolist()\n",
    "print(\"Number of cells from CLA project : %d\" % len(cla_list))\n"
   ]
  },
  {
   "cell_type": "code",
   "execution_count": 7,
   "metadata": {},
   "outputs": [],
   "source": [
    "def sum_regions(x, region='SSp'):\n",
    "    for tag in ['ipsi_', 'contra_']:\n",
    "        tp_list = [tag+nmt.bs.id_to_name(i) for i in nmt.bs.get_all_child_id(region)]\n",
    "        tp_list = [i for i in tp_list if i in (x.columns.tolist())]\n",
    "        res = x[tp_list].sum(axis=1)\n",
    "        x.drop(columns=tp_list, inplace=True)\n",
    "        x[tag+region] = res\n",
    "        print(len(tp_list))\n",
    "    return x"
   ]
  },
  {
   "cell_type": "code",
   "execution_count": 45,
   "metadata": {},
   "outputs": [
    {
     "name": "stdout",
     "output_type": "stream",
     "text": [
      "7\n",
      "7\n"
     ]
    },
    {
     "data": {
      "text/plain": [
       "(100, 63)"
      ]
     },
     "execution_count": 45,
     "metadata": {},
     "output_type": "execute_result"
    }
   ],
   "source": [
    "projection_df_full = ns.features['projection_features'].raw_data.copy().loc[clist] / 1000\n",
    "projection_df_full = sum_regions(projection_df_full, 'SSp')\n",
    "projection_df = projection_df_full.drop(columns=['ipsi_fiber tracts', 'contra_fiber tracts'], inplace=False)\n",
    "\n",
    "thres_mm = 1\n",
    "# thres = np.log(thres_mm+1)\n",
    "# use_features = projection_df.columns[np.sum(projection_df>thres)>=5]\n",
    "use_features = projection_df.columns[np.sum(projection_df>thres_mm)>3].tolist()\n",
    "# use_features = projection_df.columns[np.sum(projection_df>thres_mm)>=5].tolist()\n",
    "for i in ['ipsi_CP', 'contra_CP']:\n",
    "    if i in use_features:\n",
    "        use_features.remove(i)\n",
    "projection_df = projection_df[use_features]\n",
    "projection_df.shape"
   ]
  },
  {
   "cell_type": "code",
   "execution_count": 30,
   "metadata": {},
   "outputs": [
    {
     "data": {
      "text/html": [
       "<div>\n",
       "<style scoped>\n",
       "    .dataframe tbody tr th:only-of-type {\n",
       "        vertical-align: middle;\n",
       "    }\n",
       "\n",
       "    .dataframe tbody tr th {\n",
       "        vertical-align: top;\n",
       "    }\n",
       "\n",
       "    .dataframe thead th {\n",
       "        text-align: right;\n",
       "    }\n",
       "</style>\n",
       "<table border=\"1\" class=\"dataframe\">\n",
       "  <thead>\n",
       "    <tr style=\"text-align: right;\">\n",
       "      <th></th>\n",
       "      <th>axon_length</th>\n",
       "      <th>celltype</th>\n",
       "    </tr>\n",
       "  </thead>\n",
       "  <tbody>\n",
       "    <tr>\n",
       "      <th>17109_2401_x9695_y9693</th>\n",
       "      <td>80.649337</td>\n",
       "      <td>CLA</td>\n",
       "    </tr>\n",
       "    <tr>\n",
       "      <th>17109_2601_x10213_y8783</th>\n",
       "      <td>99.090599</td>\n",
       "      <td>CLA</td>\n",
       "    </tr>\n",
       "    <tr>\n",
       "      <th>17109_3101_x10824_y7188</th>\n",
       "      <td>101.178644</td>\n",
       "      <td>CLA</td>\n",
       "    </tr>\n",
       "    <tr>\n",
       "      <th>17109_1701_x8048_y22277</th>\n",
       "      <td>70.163678</td>\n",
       "      <td>pc</td>\n",
       "    </tr>\n",
       "    <tr>\n",
       "      <th>17109_1801_x6698_y12550</th>\n",
       "      <td>151.061649</td>\n",
       "      <td>pc</td>\n",
       "    </tr>\n",
       "  </tbody>\n",
       "</table>\n",
       "</div>"
      ],
      "text/plain": [
       "                         axon_length celltype\n",
       "17109_2401_x9695_y9693     80.649337      CLA\n",
       "17109_2601_x10213_y8783    99.090599      CLA\n",
       "17109_3101_x10824_y7188   101.178644      CLA\n",
       "17109_1701_x8048_y22277    70.163678       pc\n",
       "17109_1801_x6698_y12550   151.061649       pc"
      ]
     },
     "execution_count": 30,
     "metadata": {},
     "output_type": "execute_result"
    }
   ],
   "source": [
    "alength = pd.DataFrame(projection_df_full.sum(axis=1), columns=['axon_length'])\n",
    "alength['celltype'] = celltype.loc[alength.index, 'Cell_type']\n",
    "alength.head()"
   ]
  },
  {
   "cell_type": "code",
   "execution_count": 31,
   "metadata": {},
   "outputs": [
    {
     "name": "stdout",
     "output_type": "stream",
     "text": [
      "134.08078021487987 8.666040837095625\n",
      "105.2216626045045 5.139557053934349\n"
     ]
    },
    {
     "data": {
      "text/plain": [
       "MannwhitneyuResult(statistic=749.0, pvalue=0.0045314825436471055)"
      ]
     },
     "execution_count": 31,
     "metadata": {},
     "output_type": "execute_result"
    }
   ],
   "source": [
    "clist1 = alength[alength['celltype']=='CLA'].index.tolist()\n",
    "clist2 = alength[alength['celltype']=='pc'].index.tolist()\n",
    "\n",
    "tlist = clist1\n",
    "mu = np.mean(alength.loc[tlist, 'axon_length'])\n",
    "sem = np.std(alength.loc[tlist, 'axon_length']) / np.sqrt(len(tlist))\n",
    "print(mu, sem)\n",
    "\n",
    "tlist = clist2\n",
    "mu = np.mean(alength.loc[tlist, 'axon_length'])\n",
    "sem = np.std(alength.loc[tlist, 'axon_length']) / np.sqrt(len(tlist))\n",
    "print(mu, sem)\n",
    "\n",
    "\n",
    "mannwhitneyu(alength.loc[clist1, 'axon_length'], alength.loc[clist2, 'axon_length'])"
   ]
  },
  {
   "cell_type": "markdown",
   "metadata": {},
   "source": [
    "## Are there subcortical projections?"
   ]
  },
  {
   "cell_type": "code",
   "execution_count": 44,
   "metadata": {},
   "outputs": [
    {
     "data": {
      "text/plain": [
       "ipsi_fiber tracts      30\n",
       "ipsi_CP                24\n",
       "ipsi_ENTl              22\n",
       "ipsi_CLA               19\n",
       "ipsi_ENTm              17\n",
       "ipsi_EPd               13\n",
       "ipsi_PAR                7\n",
       "ipsi_POST               7\n",
       "contra_fiber tracts     6\n",
       "ipsi_SUB                4\n",
       "dtype: int64"
      ]
     },
     "execution_count": 44,
     "metadata": {},
     "output_type": "execute_result"
    }
   ],
   "source": [
    "tlist = []\n",
    "ctx_list = [nmt.bs.id_to_name(i) for i in nmt.bs.get_all_child_id('Isocortex')]\n",
    "for i in projection_df_full.columns.tolist():\n",
    "    j = i.replace('ipsi_', '').replace('contra_', '')\n",
    "    if j in ctx_list:\n",
    "        continue\n",
    "    tlist.append(i)\n",
    "tp = projection_df_full.loc[clist1, tlist].copy()>1\n",
    "tp = tp.sum(axis=0)\n",
    "tp.sort_values(ascending=False).head(10)"
   ]
  },
  {
   "cell_type": "code",
   "execution_count": 47,
   "metadata": {},
   "outputs": [
    {
     "data": {
      "text/plain": [
       "ipsi_ENTl    22\n",
       "ipsi_CLA     19\n",
       "ipsi_ENTm    17\n",
       "ipsi_EPd     13\n",
       "ipsi_POST     7\n",
       "ipsi_PAR      7\n",
       "ipsi_SUB      4\n",
       "ipsi_BLA      3\n",
       "ipsi_LA       2\n",
       "dtype: int64"
      ]
     },
     "execution_count": 47,
     "metadata": {},
     "output_type": "execute_result"
    }
   ],
   "source": [
    "tlist = []\n",
    "ctx_list = [nmt.bs.id_to_name(i) for i in nmt.bs.get_all_child_id('Isocortex')]\n",
    "for i in projection_df.columns.tolist():\n",
    "    j = i.replace('ipsi_', '').replace('contra_', '')\n",
    "    if j in ctx_list:\n",
    "        continue\n",
    "    tlist.append(i)\n",
    "tp = projection_df.loc[clist1, tlist].copy()>1\n",
    "tp = tp.sum(axis=0)\n",
    "tp.sort_values(ascending=False).head(20)"
   ]
  },
  {
   "cell_type": "code",
   "execution_count": null,
   "metadata": {},
   "outputs": [],
   "source": [
    "tlist = []\n",
    "ctx_list = [nmt.bs.id_to_name(i) for i in nmt.bs.get_all_child_id('Isocortex')]\n",
    "for i in projection_df_full.columns.tolist():\n",
    "    j = i.replace('ipsi_', '').replace('contra_', '')\n",
    "    if j in ctx_list:\n",
    "        continue\n",
    "    tlist.append(i)\n",
    "tp = projection_df_full.loc[clist1, tlist].copy()>1\n",
    "tp = tp.sum(axis=0)\n",
    "tp.sort_values(ascending=False).head(10)"
   ]
  },
  {
   "cell_type": "code",
   "execution_count": 43,
   "metadata": {},
   "outputs": [
    {
     "data": {
      "text/plain": [
       "True"
      ]
     },
     "execution_count": 43,
     "metadata": {},
     "output_type": "execute_result"
    }
   ],
   "source": [
    "'BLA' in ctx_list"
   ]
  },
  {
   "cell_type": "code",
   "execution_count": 42,
   "metadata": {},
   "outputs": [
    {
     "data": {
      "text/html": [
       "<div>\n",
       "<style scoped>\n",
       "    .dataframe tbody tr th:only-of-type {\n",
       "        vertical-align: middle;\n",
       "    }\n",
       "\n",
       "    .dataframe tbody tr th {\n",
       "        vertical-align: top;\n",
       "    }\n",
       "\n",
       "    .dataframe thead th {\n",
       "        text-align: right;\n",
       "    }\n",
       "</style>\n",
       "<table border=\"1\" class=\"dataframe\">\n",
       "  <thead>\n",
       "    <tr style=\"text-align: right;\">\n",
       "      <th></th>\n",
       "      <th>ipsi_LA</th>\n",
       "      <th>ipsi_BLA</th>\n",
       "      <th>ipsi_BMA</th>\n",
       "    </tr>\n",
       "  </thead>\n",
       "  <tbody>\n",
       "    <tr>\n",
       "      <th>236174_6338_x12092_y5845</th>\n",
       "      <td>2.633866</td>\n",
       "      <td>1.568699</td>\n",
       "      <td>0.000000</td>\n",
       "    </tr>\n",
       "    <tr>\n",
       "      <th>236174_6438_x12218_y5897</th>\n",
       "      <td>3.519376</td>\n",
       "      <td>6.645178</td>\n",
       "      <td>0.486336</td>\n",
       "    </tr>\n",
       "    <tr>\n",
       "      <th>236174_6855_x15550_y29832</th>\n",
       "      <td>12.149224</td>\n",
       "      <td>12.247007</td>\n",
       "      <td>0.428219</td>\n",
       "    </tr>\n",
       "  </tbody>\n",
       "</table>\n",
       "</div>"
      ],
      "text/plain": [
       "                             ipsi_LA   ipsi_BLA  ipsi_BMA\n",
       "236174_6338_x12092_y5845    2.633866   1.568699  0.000000\n",
       "236174_6438_x12218_y5897    3.519376   6.645178  0.486336\n",
       "236174_6855_x15550_y29832  12.149224  12.247007  0.428219"
      ]
     },
     "execution_count": 42,
     "metadata": {},
     "output_type": "execute_result"
    }
   ],
   "source": [
    "tp = projection_df_full.loc[clist2, ['ipsi_LA', 'ipsi_BLA', 'ipsi_BMA']].copy()\n",
    "tp[(tp>0).any(axis=1)]"
   ]
  },
  {
   "cell_type": "code",
   "execution_count": 12,
   "metadata": {},
   "outputs": [],
   "source": [
    "soma_df = ns.features['soma_features'].raw_data.copy().loc[clist][['x', 'y', 'z']]\n",
    "# # projection_df = ns.features['projection_features'].scaled_data.copy().loc[clist]\n",
    "\n",
    "# # use_features = projection_df.columns[np.sum(projection_df>np.log(100))>=3]\n",
    "# # projection_df = projection_df[use_features]\n",
    "\n",
    "# projection_df = ns.features['projection_features'].raw_data.copy().loc[clist]/1000\n",
    "\n",
    "# use_features = projection_df.columns[np.sum(projection_df>1)>=3]\n",
    "# projection_df = projection_df[use_features]\n"
   ]
  },
  {
   "cell_type": "code",
   "execution_count": 13,
   "metadata": {},
   "outputs": [],
   "source": [
    "lm_feature_path = '/Users/pengxie/Documents/Research/Thalamus_fullMorpho/Data/swc/Mapped_Feb2021/features/'"
   ]
  },
  {
   "cell_type": "code",
   "execution_count": 14,
   "metadata": {},
   "outputs": [
    {
     "data": {
      "text/html": [
       "<div>\n",
       "<style scoped>\n",
       "    .dataframe tbody tr th:only-of-type {\n",
       "        vertical-align: middle;\n",
       "    }\n",
       "\n",
       "    .dataframe tbody tr th {\n",
       "        vertical-align: top;\n",
       "    }\n",
       "\n",
       "    .dataframe thead th {\n",
       "        text-align: right;\n",
       "    }\n",
       "</style>\n",
       "<table border=\"1\" class=\"dataframe\">\n",
       "  <thead>\n",
       "    <tr style=\"text-align: right;\">\n",
       "      <th>ID</th>\n",
       "      <th>Overall Width</th>\n",
       "      <th>Max Euclidean Distance</th>\n",
       "    </tr>\n",
       "  </thead>\n",
       "  <tbody>\n",
       "    <tr>\n",
       "      <th>17781_6202_x7633_y12296</th>\n",
       "      <td>3238.6</td>\n",
       "      <td>3136.2</td>\n",
       "    </tr>\n",
       "  </tbody>\n",
       "</table>\n",
       "</div>"
      ],
      "text/plain": [
       "ID                       Overall Width  Max Euclidean Distance\n",
       "17781_6202_x7633_y12296         3238.6                  3136.2"
      ]
     },
     "execution_count": 14,
     "metadata": {},
     "output_type": "execute_result"
    }
   ],
   "source": [
    "def outlier(df, k_sigma = 5):   \n",
    "    sigma = df.std(axis=0)\n",
    "    mu = df.mean(axis=0)\n",
    "    low_bound = np.array(mu - sigma*k_sigma).reshape(1,-1)\n",
    "    high_bound = np.array(mu + sigma*k_sigma).reshape(1,-1)\n",
    "    res = df[((df<low_bound) | (df>high_bound)).any(axis=1)]\n",
    "    flist = ((df<low_bound) | (df>high_bound)).any(axis=0)\n",
    "    flist = flist[flist].index.tolist()\n",
    "    bound = pd.DataFrame({'lower bound':list(low_bound.reshape(-1,)),\n",
    "                          'upper bound':list(high_bound.reshape(-1))\n",
    "                         }, index=df.columns).transpose().round(2)\n",
    "    res = res[flist]\n",
    "    bound = bound[flist]\n",
    "    return res, bound\n",
    "#     return flist, bound\n",
    "\n",
    "\n",
    "use_cols = ['Number of Stems', \n",
    "            'Overall Width', 'Overall Height', 'Overall Depth', \n",
    "            'Total Length', \n",
    "            'Max Euclidean Distance', 'Max Path Distance', \n",
    "            'Number of Bifurcatons', 'Number of Branches', 'Number of Tips',\n",
    "            'Max Branch Order','Average Contraction', 'Average Fragmentation',\n",
    "            'Average Bifurcation Angle Local', 'Average Bifurcation Angle Remote', \n",
    "            'Hausdorff Dimension'\n",
    "           ]\n",
    "\n",
    "df = pd.read_csv(lm_feature_path + \"dendrite.features\", \n",
    "                 header=[0], index_col=[0], delimiter=\"\\t\").transpose()\n",
    "\n",
    "df = df.loc[clist, use_cols]\n",
    "\n",
    "\n",
    "\n",
    "res, bound = outlier(df)\n",
    "res"
   ]
  },
  {
   "cell_type": "code",
   "execution_count": 15,
   "metadata": {},
   "outputs": [
    {
     "name": "stdout",
     "output_type": "stream",
     "text": [
      "Number of input neurons: 100\n",
      "Number of input features: 7\n"
     ]
    }
   ],
   "source": [
    "use_cols = [#'Number of Stems', \n",
    "            'Overall Width', 'Overall Height', 'Overall Depth', \n",
    "            'Total Length', \n",
    "            'Max Euclidean Distance', \n",
    "            'Max Path Distance', \n",
    "#             'Number of Bifurcatons', \n",
    "#             'Number of Tips', \n",
    "            'Number of Branches', \n",
    "#             'Max Branch Order',\n",
    "#             'Average Contraction', \n",
    "#             'Average Fragmentation',\n",
    "#             'Average Bifurcation Angle Local', \n",
    "#             'Average Bifurcation Angle Remote', \n",
    "#             'Hausdorff Dimension'\n",
    "           ]\n",
    "df = pd.read_csv(lm_feature_path + \"axon.features\", \n",
    "                 header=[0], index_col=[0], delimiter=\"\\t\").transpose()\n",
    "df = df.loc[clist, use_cols]\n",
    "\n",
    "res, bound = outlier(df)\n",
    "if len(res)>0:\n",
    "    print(\"Warning: outlier found...\")\n",
    "\n",
    "lm_axon = nmt.features(\"L-measure of axon\")\n",
    "lm_axon.add_raw_data(df)\n",
    "\n",
    "# pickle.dump([lm_axon], open(\"features_lm_axon_CLA.pickle\", \"wb\"))"
   ]
  },
  {
   "cell_type": "code",
   "execution_count": 16,
   "metadata": {},
   "outputs": [
    {
     "name": "stdout",
     "output_type": "stream",
     "text": [
      "Number of Tips vs. Number of Bifurcatons\n",
      "Number of input neurons: 100\n",
      "Number of input features: 8\n"
     ]
    },
    {
     "data": {
      "image/png": "[encoded data removed]",
      "text/plain": [
       "<Figure size 432x288 with 1 Axes>"
      ]
     },
     "metadata": {
      "needs_background": "light"
     },
     "output_type": "display_data"
    }
   ],
   "source": [
    "# Non-repeated features\n",
    "use_cols = ['Number of Stems', \n",
    "            'Overall Width', 'Overall Height', 'Overall Depth', \n",
    "            'Total Length', \n",
    "            'Max Euclidean Distance', 'Max Path Distance', \n",
    "            'Number of Bifurcatons', 'Number of Branches', 'Number of Tips',\n",
    "            'Max Branch Order','Average Contraction', 'Average Fragmentation',\n",
    "            'Average Bifurcation Angle Local', 'Average Bifurcation Angle Remote', \n",
    "            'Hausdorff Dimension'\n",
    "           ]\n",
    "\n",
    "df = pd.read_csv(lm_feature_path + \"dendrite.features\", \n",
    "                 header=[0], index_col=[0], delimiter=\"\\t\").transpose()\n",
    "\n",
    "df = df.loc[clist, use_cols]\n",
    "# Outlier\n",
    "df.loc['17781_6202_x7633_y12296', ['Overall Width', 'Overall Height', 'Overall Depth', 'Max Euclidean Distance', ]] = [286.107, 221.17, 204.117, 224.247]\n",
    "\n",
    "\n",
    "# Check whether any highly correlated features\n",
    "\n",
    "tp = df.transpose()\n",
    "cc = np.corrcoef(tp)\n",
    "a, b = np.where(cc>0.95)\n",
    "for i in range(len(a)):\n",
    "    if a[i] > b[i]:\n",
    "        print(\"%s vs. %s\" % (tp.index[a[i]], tp.index[b[i]]))\n",
    "        plt.scatter(tp.loc[tp.index[a[i]]], tp.loc[tp.index[b[i]]])\n",
    "        \n",
    "use_cols = [\n",
    "#     'Number of Stems', \n",
    "    'Overall Width', 'Overall Height', 'Overall Depth', \n",
    "    'Total Length',\n",
    "    'Max Euclidean Distance', 'Max Path Distance', \n",
    "#     'Number of Bifurcatons', \n",
    "    'Number of Branches', \n",
    "#     'Number of Tips',\n",
    "    'Max Branch Order',\n",
    "#     'Average Contraction', 'Average Fragmentation',\n",
    "#     'Average Bifurcation Angle Local', 'Average Bifurcation Angle Remote', \n",
    "#     'Hausdorff Dimension'\n",
    "]\n",
    "\n",
    "df = df[use_cols]\n",
    "res, bound = outlier(df)\n",
    "if len(res)>0:\n",
    "    print(\"Warning: outlier found...\")\n",
    "\n",
    "lm_dendrite = nmt.features(\"L-measure of dendrite\")\n",
    "lm_dendrite.add_raw_data(df)\n",
    "# pickle.dump([lm_dendrite], open(\"features_lm_dendrite_CLA.pickle\", \"wb\"))\n"
   ]
  },
  {
   "cell_type": "code",
   "execution_count": 17,
   "metadata": {},
   "outputs": [
    {
     "name": "stdout",
     "output_type": "stream",
     "text": [
      "Number of input neurons: 100\n",
      "Number of input features: 2\n"
     ]
    }
   ],
   "source": [
    "# Non-repeated features\n",
    "use_cols = ['Number of Stems', \n",
    "            'Overall Width', 'Overall Height', 'Overall Depth', \n",
    "            'Total Length', \n",
    "            'Max Euclidean Distance', 'Max Path Distance', \n",
    "            'Number of Bifurcatons', 'Number of Branches', 'Number of Tips',\n",
    "            'Max Branch Order','Average Contraction', 'Average Fragmentation',\n",
    "            'Average Bifurcation Angle Local', 'Average Bifurcation Angle Remote', \n",
    "            'Hausdorff Dimension'\n",
    "           ]\n",
    "\n",
    "df = pd.read_csv(lm_feature_path + \"proximal_axon.features\", \n",
    "                 header=[0], index_col=[0], delimiter=\"\\t\").transpose()\n",
    "df = df.loc[clist, use_cols]\n",
    "\n",
    "use_cols = [#'Number of Stems', \n",
    "#             'Overall Width', 'Overall Height', 'Overall Depth', \n",
    "            'Total Length', \n",
    "#             'Max Euclidean Distance', 'Max Path Distance', \n",
    "#             'Number of Bifurcatons', \n",
    "#             'Number of Tips', \n",
    "            'Number of Branches', \n",
    "#             'Max Branch Order',\n",
    "#             'Average Contraction', \n",
    "#             'Average Fragmentation',\n",
    "#             'Average Bifurcation Angle Local', 'Average Bifurcation Angle Remote', \n",
    "#             'Hausdorff Dimension'\n",
    "           ]\n",
    "\n",
    "df = df[use_cols]\n",
    "res, bound = outlier(df)\n",
    "if len(res)>0:\n",
    "    print(\"Warning: outlier found...\")\n",
    "\n",
    "lm_local_axon = nmt.features(\"L-measure of local axon\")\n",
    "lm_local_axon.add_raw_data(df)\n",
    "# pickle.dump([lm_local_axon], open(\"features_lm_local_axon_CLA.pickle\", \"wb\"))"
   ]
  },
  {
   "cell_type": "code",
   "execution_count": 18,
   "metadata": {},
   "outputs": [],
   "source": [
    "pickle.dump([metadata,\n",
    "             soma_df,\n",
    "             projection_df,\n",
    "             lm_dendrite,\n",
    "             lm_axon,\n",
    "             lm_local_axon\n",
    "            ], open(\"features_CLA_axon_length.pickle\", \"wb\"))"
   ]
  },
  {
   "cell_type": "code",
   "execution_count": null,
   "metadata": {},
   "outputs": [],
   "source": []
  }
 ],
 "metadata": {
  "kernelspec": {
   "display_name": "Python 3",
   "language": "python",
   "name": "python3"
  },
  "language_info": {
   "codemirror_mode": {
    "name": "ipython",
    "version": 3
   },
   "file_extension": ".py",
   "mimetype": "text/x-python",
   "name": "python",
   "nbconvert_exporter": "python",
   "pygments_lexer": "ipython3",
   "version": "3.8.3"
  }
 },
 "nbformat": 4,
 "nbformat_minor": 4
}
